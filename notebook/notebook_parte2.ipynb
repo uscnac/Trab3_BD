{
 "cells": [
  {
   "cell_type": "markdown",
   "metadata": {},
   "source": [
    "***\n",
    "## Parte II\n",
    "A segunda parte do trabalho visa verificar as características de organização física dos dados, registros,\n",
    "blocos e arquivos nos nossos dois sistemas alvo. Para tanto, realizaremos várias cargas experimentais de\n",
    "dados variando vários parâmetros de armazenamento e verificando a implicação destas variações no\n",
    "tempo despendido e no espaço ocupado.\n",
    "\n",
    "- _Isabella Almeida Macedo Daniel-22250544_\n",
    "- _Lucas do Nascimento Silva-22250552_\n",
    "- _Luis Felipe dos Santos Lima-22250554_"
   ]
  },
  {
   "cell_type": "markdown",
   "metadata": {},
   "source": [
    "--------------------------------------------\n",
    "### Tarefa 6 – Analisar e descrever os detalhes de armazenamento físico de dados no PostgreSQL.\n",
    "Analisar e descrever os detalhes de armazenamento físico de dados no PostgreSQL. Construir uma tabela comparativa das principais características do sistema. Utilize, se necessário, diagramas, gráficos, etc.\n",
    "\n",
    "__Entrega:__ Relatório com o resultado da análise e descrição apresentados no jupyter notebook\n",
    "\n"
   ]
  },
  {
   "cell_type": "markdown",
   "metadata": {},
   "source": [
    "# Componentes/Dados no PostgreSQL\n",
    "\n",
    "| **Componente/Dado**      | **Descrição**                                                                                                                                                                                                                              |\n",
    "|---------------------------|------------------------------------------------------------------------------------------------------------------------------------------------------------------------------------------------------------------------------------------|\n",
    "| **Arquivo de Banco de Dados** | Contém os dados e configurações do cluster no diretório **PGDATA** (ex.: `/var/lib/pgsql/data`). Suporta múltiplos clusters na mesma máquina.                                                                                           |\n",
    "| **Mapa de Espaço Livre (FSM)** | Monitora espaço livre em relações e índices (exceto índices de hash). Organizado em árvores que agregam informações sobre o espaço disponível.                                                                                        |\n",
    "| **Mapa de Visibilidade (VM)** | Rastreia páginas com tuplas visíveis e congeladas em relações heap. Utiliza dois bits por página e é atualizado por operações de vácuo.                                                                                                 |\n",
    "| **Tabelas (Relações)**       | Armazenadas em arquivos nomeados pelo número do filenode. Possuem mapas de espaço livre e visibilidade. Segmentadas ao ultrapassar 1 GB.                                                                                                 |\n",
    "| **Índices**                  | Semelhantes às relações no armazenamento. Incluem mapas de espaço livre. Segmentados ao ultrapassar 1 GB.                                                                                                                               |\n",
    "| **Linha da Tabela**          | Estruturada com cabeçalho fixo (23 bytes), bitmap nulo opcional e dados do usuário. Armazenadas em páginas de tamanho fixo (geralmente 8 kB).                                                                                             |\n",
    "| **Página do Banco de Dados** | Contém: 1. Cabeçalho (24 bytes), 2. Identificadores de itens, 3. Espaço livre, 4. Itens reais, 5. Espaço especial para dados específicos de métodos de acesso.                                                                             |\n",
    "| **Catálogo**                 | Armazena metadados sobre o banco de dados (ex.: tabelas, colunas, índices). Essencial para o gerenciamento do SGBD.                                                                                                                     |\n"
   ]
  },
  {
   "cell_type": "markdown",
   "metadata": {},
   "source": [
    "--------------------------------------------\n",
    "### Tarefa 7 – Analisar e descrever os detalhes dos seguintes sistemas de arquivo disponíveis no Linux: Ext2, Ext3, ReiserFS e XFS.\n",
    "Analisar e descrever os detalhes dos seguintes sistemas de arquivo disponíveis no Linux: Ext2, Ext3, ReiserFS e XFS. Construir uma tabela comparativa das principais características de cada um dos dois sistemas. Utilize, se necessário, diagramas, gráficos, etc.\n",
    "\n",
    "__Entrega:__ Relatório com o resultado da análise e descrição apresentador no jupyter notebook\n",
    "\n"
   ]
  },
  {
   "cell_type": "markdown",
   "metadata": {},
   "source": [
    "# Sistemas de Arquivo no Linux\n",
    "\n",
    "| **Sistema de Arquivo** | **Descrição** | **Características Principais** |\n",
    "|:-----------------------:|:-------------|:-------------------------------|\n",
    "| **Ext2**               | O Ext2 foi o primeiro sistema de arquivos usado pelo Linux e é conhecido por seu desempenho e simplicidade. Ele divide o espaço em blocos e armazena informações sobre arquivos, como metadados (nome, tamanho, permissões) e dados (conteúdo do arquivo), em blocos de dados. No entanto, não possui journaling, exigindo verificações manuais após falhas. | - Tamanho máximo de arquivo: 2 terabytes<br>- Tamanho máximo de sistema de arquivos: 32 terabytes<br>- Número máximo de arquivos: 10 milhões<br>- Não possui journaling<br>- Não suporta compressão de arquivos<br>- Não suporta snapshots |\n",
    "| **Ext3**               | Extensão do Ext2 com suporte a journaling, que melhora a integridade dos dados em caso de falhas, permitindo restauração rápida do sistema. Possui as mesmas limitações de tamanho do Ext2 e adiciona suporte para compressão de arquivos, mas ainda não suporta snapshots. | - Tamanho máximo de arquivo: 2 terabytes<br>- Tamanho máximo de sistema de arquivos: 32 terabytes<br>- Número máximo de arquivos: 10 milhões<br>- Suporta journaling<br>- Suporta compressão de arquivos<br>- Não suporta snapshots |\n",
    "| **ReiserFS**           | Projetado para otimizar o desempenho com arquivos pequenos, usa uma estrutura de árvore balanceada (árvore B*) para eficiência em buscas e recuperação. Suporta journaling e snapshots, mas não possui compressão de arquivos nativa. | - Tamanho máximo de arquivo: 8 terabytes<br>- Tamanho máximo de sistema de arquivos: 16 terabytes<br>- Número máximo de arquivos: depende do tamanho do sistema de arquivos<br>- Suporta journaling<br>- Não suporta compressão de arquivos<br>- Suporta snapshots |\n",
    "| **XFS**                | Sistema de arquivos de alto desempenho e escalável, projetado para tamanhos muito grandes de arquivos e sistemas (até 8 exabytes em 64 bits). Suporta journaling, compressão e snapshots, garantindo alta eficiência em sistemas com muitos arquivos. | - Tamanho máximo de arquivo: 8 exabytes (64 bits) ou 16 terabytes (32 bits)<br>- Tamanho máximo de sistema de arquivos: 8 exabytes (64 bits) ou 16 terabytes (32 bits)<br>- Número máximo de arquivos: depende do tamanho do sistema de arquivos<br>- Suporta journaling<br>- Suporta compressão de arquivos<br>- Suporta snapshots |\n",
    "\n"
   ]
  }
 ],
 "metadata": {
  "kernelspec": {
   "display_name": "Python 3 (ipykernel)",
   "language": "python",
   "name": "python3"
  },
  "language_info": {
   "codemirror_mode": {
    "name": "ipython",
    "version": 3
   },
   "file_extension": ".py",
   "mimetype": "text/x-python",
   "name": "python",
   "nbconvert_exporter": "python",
   "pygments_lexer": "ipython3",
   "version": "3.10.6"
  }
 },
 "nbformat": 4,
 "nbformat_minor": 2
}
