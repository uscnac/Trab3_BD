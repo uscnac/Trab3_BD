{
 "cells": [
  {
   "cell_type": "markdown",
   "metadata": {},
   "source": [
    "***\n",
    "## Parte III\n",
    "O objetivo desta parte do trabalho é analisar o comportamento dos índices das tabelas do SGBD através\n",
    "do exame e análise das tabelas de estatísticas para consultas SQL sobre as tabelas “movies”, “actors”,\n",
    "“casting”, e sobre uma tabela criada com dados aleatórios. Esta tarefa deverá ser executada somente com\n",
    "o PostgreSQL.\n",
    "\n",
    "- _Isabella Almeida Macedo Daniel-22250544_\n",
    "- _Lucas do Nascimento Silva-22250552_\n",
    "- _Luis Felipe dos Santos Lima-22250554_"
   ]
  },
  {
   "cell_type": "code",
   "execution_count": 1,
   "metadata": {},
   "outputs": [
    {
     "name": "stdout",
     "output_type": "stream",
     "text": [
      "Conexão estabelecida!\n"
     ]
    }
   ],
   "source": [
    "\n",
    "import psycopg2\n",
    "\n",
    "conn = psycopg2.connect( \n",
    "    host=\"localhost\",\n",
    "    port=\"5432\",\n",
    "    database=\"tpchdb\",\n",
    "    user=\"tpch\",\n",
    "    password=\"test123\"\n",
    ")\n",
    "\n",
    "cursor = conn.cursor()\n",
    "\n",
    "print(\"Conexão estabelecida!\")"
   ]
  },
  {
   "cell_type": "markdown",
   "metadata": {},
   "source": [
    "--------------------------------------------\n",
    "### Tarefa 9 – Preparação de Tabela Exemplo\n",
    "Criar uma tabela com uma chave simples e alguns dados de exemplo. Cada valor de chave é um número\n",
    "incremental e está associado a com valores que variam de 0 até 10:\n",
    "\n",
    "> `DROP TABLE IF EXISTS t;`\n",
    "> \n",
    "> `CREATE TABLE t (k serial PRIMARY KEY, v integer);`\n",
    "> \n",
    "> `INSERT INTO t(v)`\n",
    "> \n",
    "> `SELECT trunc(random() * 10) FROM generate_series(1,100000);`\n",
    "\n",
    "__Entrega__: Imprimir os valores das 10 primeiras tuplas da tabela, ordenando por k.\n",
    "\n"
   ]
  },
  {
   "cell_type": "code",
   "execution_count": 2,
   "metadata": {},
   "outputs": [],
   "source": [
    "\n",
    "cursor.execute(\"DROP TABLE IF EXISTS t; CREATE TABLE t (k serial PRIMARY KEY, v integer); INSERT INTO t(v) SELECT trunc(random() * 10) FROM generate_series(1,100000);\")"
   ]
  },
  {
   "cell_type": "code",
   "execution_count": 3,
   "metadata": {},
   "outputs": [
    {
     "name": "stdout",
     "output_type": "stream",
     "text": [
      "(1, 0)\n",
      "(2, 4)\n",
      "(3, 2)\n",
      "(4, 9)\n",
      "(5, 8)\n",
      "(6, 5)\n",
      "(7, 0)\n",
      "(8, 9)\n",
      "(9, 0)\n",
      "(10, 0)\n"
     ]
    }
   ],
   "source": [
    "\n",
    "cursor.execute(\"SELECT * FROM t LIMIT 10 OFFSET 0;\")\n",
    "\n",
    "rows = cursor.fetchall()\n",
    "for row in rows:\n",
    "    print(row)"
   ]
  },
  {
   "cell_type": "markdown",
   "metadata": {},
   "source": [
    "--------------------------------------------\n",
    "### Tarefa 10 – Páginas criadas\n",
    "Verifique quantas páginas com blocos foram criadas para a tabela da Tarefa 11.\n",
    ">`SELECT relname, relpages, reltuples FROM pg_class WHERE relname='t';`\n",
    "\n",
    "__Entrega:__ Imprimir o resultado do comando SQL.\n",
    "\n"
   ]
  },
  {
   "cell_type": "code",
   "execution_count": 4,
   "metadata": {},
   "outputs": [
    {
     "name": "stdout",
     "output_type": "stream",
     "text": [
      "numero de páginas: 722\n"
     ]
    }
   ],
   "source": [
    "\n",
    "cursor.execute(\"\"\"\n",
    "    SELECT ceil(pg_total_relation_size('t') / current_setting('block_size')::numeric)\n",
    "    FROM pg_class\n",
    "    WHERE relname = 't'\n",
    "\"\"\")\n",
    "\n",
    "result = cursor.fetchone()\n",
    "print(\"numero de páginas:\", result[0])"
   ]
  },
  {
   "cell_type": "markdown",
   "metadata": {},
   "source": [
    "--------------------------------------------\n",
    "### Tarefa 11 – Blocos\n",
    "Verifique quantos blocos foram efetivamente usados numa consulta\n",
    "\n",
    ">`SELECT pg_sleep(1);`\n",
    ">\n",
    ">`\\pset x on`\n",
    ">\n",
    ">`SELECT * FROM pg_stats WHERE relname='t';`\n",
    ">\n",
    ">`SELECT pg_stat_reset();`\n",
    ">\n",
    ">`\\pset x off`\n",
    "\n",
    "__Observação:__ Em algumas versões do PostgreSQL, o atributo é chamado de tablename em vez de\n",
    "relname.\n",
    "\n",
    "__Entrega:__ Imprimir o resultado do comando SQL.\n"
   ]
  },
  {
   "cell_type": "code",
   "execution_count": 5,
   "metadata": {},
   "outputs": [
    {
     "name": "stdout",
     "output_type": "stream",
     "text": [
      "Total de blocos:  3\n"
     ]
    }
   ],
   "source": [
    "cursor.execute(\"EXPLAIN (ANALYZE, BUFFERS) SELECT * FROM t ORDER BY k LIMIT 10\")\n",
    "\n",
    "result = cursor.fetchall()\n",
    "\n",
    "for row in result:\n",
    "    if \"Buffers:\" in row[0]:\n",
    "        blocks_used = int(row[0].split(\"=\")[1].split()[0])\n",
    "        print(\"Total de blocos: \", blocks_used)\n",
    "        break"
   ]
  },
  {
   "cell_type": "markdown",
   "metadata": {},
   "source": [
    "--------------------------------------------\n",
    "### Tarefa 12 – Índice\n",
    "Crie um índice para o atributo ‘v’ e realize consultas e criação de índice\n",
    "\n",
    "a) Qual o tempo gasto para realizar uma consulta para um valor (tendo a tabela 100000 tuplas)?\n",
    "\n"
   ]
  },
  {
   "cell_type": "code",
   "execution_count": 6,
   "metadata": {},
   "outputs": [],
   "source": [
    "import time\n",
    "cursor.execute(\"CREATE INDEX idx_v ON t(v);\")"
   ]
  },
  {
   "cell_type": "code",
   "execution_count": 7,
   "metadata": {},
   "outputs": [
    {
     "name": "stdout",
     "output_type": "stream",
     "text": [
      "Tempo total:  0.0005488395690917969  segundos\n"
     ]
    }
   ],
   "source": [
    "start_time = time.time()\n",
    "cursor.execute(\"SELECT * FROM t WHERE v = 100;\")\n",
    "end_time = time.time()\n",
    "execution_time = end_time - start_time\n",
    "print(\"Tempo total: \", execution_time, \" segundos\")"
   ]
  },
  {
   "cell_type": "markdown",
   "metadata": {},
   "source": [
    "b) Qual o tempo gasto para recriar um índice para o atributo ‘v’?\n"
   ]
  },
  {
   "cell_type": "code",
   "execution_count": 8,
   "metadata": {},
   "outputs": [
    {
     "name": "stdout",
     "output_type": "stream",
     "text": [
      "Tempo total:  0.028629779815673828  segundos\n"
     ]
    }
   ],
   "source": [
    "\n",
    "cursor.execute(\"DROP INDEX idx_v;\")\n",
    "start_time = time.time()\n",
    "cursor.execute(\"CREATE INDEX idx_v ON t(v);\")\n",
    "end_time = time.time()\n",
    "execution_time = end_time - start_time\n",
    "print(\"Tempo total: \", execution_time, \" segundos\")"
   ]
  },
  {
   "cell_type": "markdown",
   "metadata": {},
   "source": [
    "Remova a tabela ‘t’ e crie novamente com 1.0000.000 de tuplas\n",
    "\n",
    "c) Qual o tempo gasto para realizar uma consulta para um valor específico?\n",
    "\n"
   ]
  },
  {
   "cell_type": "code",
   "execution_count": 9,
   "metadata": {},
   "outputs": [
    {
     "name": "stdout",
     "output_type": "stream",
     "text": [
      "Tempo total:  0.015421390533447266  segundos\n"
     ]
    }
   ],
   "source": [
    "cursor.execute(\"DROP TABLE IF EXISTS t;\")\n",
    "cursor.execute(\"CREATE TABLE t (k serial PRIMARY KEY, v integer); INSERT INTO t(v) SELECT trunc(random() * 10) FROM generate_series(1,1000000);\")\n",
    "start_time = time.time()\n",
    "cursor.execute(\"SELECT * FROM t WHERE v = 100;\")\n",
    "end_time = time.time()\n",
    "execution_time = end_time - start_time\n",
    "print(\"Tempo total: \", execution_time, \" segundos\")"
   ]
  },
  {
   "cell_type": "markdown",
   "metadata": {},
   "source": [
    "d) Qual o tempo gasto para recriar um índice para o atributo ‘v’?\n",
    "\n"
   ]
  },
  {
   "cell_type": "code",
   "execution_count": 10,
   "metadata": {},
   "outputs": [
    {
     "name": "stdout",
     "output_type": "stream",
     "text": [
      "Tempo toal:  0.21191048622131348  segundos\n"
     ]
    }
   ],
   "source": [
    "cursor.execute(\"\"\"\n",
    "    SELECT EXISTS (\n",
    "        SELECT 1\n",
    "        FROM pg_indexes\n",
    "        WHERE indexname = 'idx_v');\n",
    "\"\"\")\n",
    "\n",
    "index_exists = cursor.fetchone()[0]\n",
    "\n",
    "if index_exists:\n",
    "    cursor.execute(\"DROP INDEX idx_v;\")\n",
    "start_time = time.time()\n",
    "cursor.execute(\"CREATE INDEX idx_v ON t(v);\")\n",
    "end_time = time.time()\n",
    "execution_time = end_time - start_time\n",
    "print(\"Tempo toal: \", execution_time, \" segundos\")"
   ]
  },
  {
   "cell_type": "markdown",
   "metadata": {},
   "source": [
    "--------------------------------------------\n",
    "### Tarefa 13 - Fill factor\n",
    "Quando se cria um novo índice, nem toda entrada no bloco do índice é usada. Um espaço livre é deixado,\n",
    "conforme o parâmetro fillfactor.\n",
    "\n",
    "Crie novos índices usando fillfactor = 60, 80, 90 e 100. Analise o desempenho de suas consultas usando as\n",
    "mesmas condições da Tarefa 14.\n",
    "\n",
    ">`ALTER TABLE foo SET ( fillfactor = 50);`\n",
    ">\n",
    "> `VACUUM FULL foo;`\n",
    "\n",
    "__Entrega:__ Relatório com o resultado das perguntas\n",
    "\n"
   ]
  },
  {
   "cell_type": "code",
   "execution_count": 11,
   "metadata": {},
   "outputs": [
    {
     "name": "stdout",
     "output_type": "stream",
     "text": [
      "Tempo total:  0.0003306865692138672  segundos\n"
     ]
    }
   ],
   "source": [
    "cursor.execute(\"CREATE INDEX idx_60 ON t(v) WITH (fillfactor = 60);\")\n",
    "start_time = time.time()\n",
    "cursor.execute(\"SELECT * FROM t WHERE v = 100;\")\n",
    "end_time = time.time()\n",
    "execution_time = end_time - start_time\n",
    "print(\"Tempo total: \", execution_time, \" segundos\")"
   ]
  },
  {
   "cell_type": "code",
   "execution_count": 12,
   "metadata": {},
   "outputs": [
    {
     "name": "stdout",
     "output_type": "stream",
     "text": [
      "Tempo total:  0.0004343986511230469  segundos\n"
     ]
    }
   ],
   "source": [
    "cursor.execute(\"CREATE INDEX idx_80 ON t(v) WITH (fillfactor = 80);\")\n",
    "start_time = time.time()\n",
    "cursor.execute(\"SELECT * FROM t WHERE v = 100;\")\n",
    "end_time = time.time()\n",
    "execution_time = end_time - start_time\n",
    "print(\"Tempo total: \", execution_time, \" segundos\")"
   ]
  },
  {
   "cell_type": "code",
   "execution_count": 13,
   "metadata": {},
   "outputs": [
    {
     "name": "stdout",
     "output_type": "stream",
     "text": [
      "Tempo total:  0.0005540847778320312  s:egundos\n"
     ]
    }
   ],
   "source": [
    "cursor.execute(\"CREATE INDEX idx_90 ON t(v) WITH (fillfactor = 90);\")\n",
    "start_time = time.time()\n",
    "cursor.execute(\"SELECT * FROM t WHERE v = 100;\")\n",
    "end_time = time.time()\n",
    "execution_time = end_time - start_time\n",
    "print(\"Tempo total: \", execution_time, \" s:egundos\")"
   ]
  },
  {
   "cell_type": "code",
   "execution_count": 14,
   "metadata": {},
   "outputs": [
    {
     "name": "stdout",
     "output_type": "stream",
     "text": [
      "Tempo total:  0.0005002021789550781  segundos\n"
     ]
    }
   ],
   "source": [
    "cursor.execute(\"CREATE INDEX idx_100 ON t(v) WITH (fillfactor = 100);\")\n",
    "start_time = time.time()\n",
    "cursor.execute(\"SELECT * FROM t WHERE v = 100;\")\n",
    "end_time = time.time()\n",
    "execution_time = end_time - start_time\n",
    "print(\"Tempo total: \", execution_time, \" segundos\")"
   ]
  },
  {
   "cell_type": "markdown",
   "metadata": {},
   "source": [
    "--------------------------------------------\n",
    "### Tarefa 15 - Utilize índices com ordem DESC\n",
    "Repita os testes das Tarefas 12 e 13 usando índices descendentes. Avalie e registre na ficha\n",
    "\n",
    "> `CREATE INDEX i ON t(v DESC NULLS FIRST);`\n",
    "\n",
    "__Entrega:__ Relatório com o resultado da avaliação\n"
   ]
  },
  {
   "cell_type": "code",
   "execution_count": 15,
   "metadata": {},
   "outputs": [
    {
     "name": "stdout",
     "output_type": "stream",
     "text": [
      "Total de páginas: 12799\n"
     ]
    }
   ],
   "source": [
    "\n",
    "cursor.execute(\"CREATE INDEX idx_v11 ON t(v DESC NULLS FIRST);\")\n",
    "cursor.execute(\"\"\"\n",
    "    SELECT ceil(pg_total_relation_size('t') / current_setting('block_size')::numeric)\n",
    "    FROM pg_class\n",
    "    WHERE relname = 't'\n",
    "\"\"\")\n",
    "\n",
    "result = cursor.fetchone()\n",
    "print(\"Total de páginas:\", result[0])"
   ]
  },
  {
   "cell_type": "code",
   "execution_count": 16,
   "metadata": {},
   "outputs": [
    {
     "name": "stdout",
     "output_type": "stream",
     "text": [
      "Total de bloco:  4\n"
     ]
    }
   ],
   "source": [
    "# REFAZENDO TAREFA 12-ÍNDICES DECRESCENTES\n",
    "# -------------------------------------------------\n",
    "cursor.execute(\"EXPLAIN (ANALYZE, BUFFERS) SELECT * FROM t ORDER BY k LIMIT 10\")\n",
    "\n",
    "result = cursor.fetchall()\n",
    "\n",
    "for row in result:\n",
    "    if \"Buffers:\" in row[0]:\n",
    "        blocks_used = int(row[0].split(\"=\")[1].split()[0])\n",
    "        print(\"Total de bloco: \", blocks_used)\n",
    "        break"
   ]
  },
  {
   "cell_type": "code",
   "execution_count": 17,
   "metadata": {
    "scrolled": true
   },
   "outputs": [
    {
     "name": "stdout",
     "output_type": "stream",
     "text": [
      "a) Tempo gasto para realizar a consulta:  0.00037288665771484375  segundos\n",
      "b) Tempo gasto para recriar o índice:  0.2599203586578369  segundos\n",
      "c) Tempo gasto para realizar a consulta:  0.017119884490966797  segundos\n",
      "d) Tempo gasto para recriar o índice:  0.24817180633544922  segundos\n"
     ]
    }
   ],
   "source": [
    "# REFAZENDO TAREFA 13-ÍNDICES DECRESCENTES\n",
    "# -------------------------------------------------\n",
    "\n",
    "# Criando um índice para o atributo 'v'\n",
    "cursor.execute(\"CREATE INDEX idx_v13 ON t(v DESC NULLS FIRST);\")\n",
    "\n",
    "# Realizando uma consulta para um valor específico (100)\n",
    "start_time = time.time()\n",
    "cursor.execute(\"SELECT * FROM t WHERE v = 100;\")\n",
    "end_time = time.time()\n",
    "execution_time = end_time - start_time\n",
    "print(\"a) Tempo gasto para realizar a consulta: \", execution_time, \" segundos\")\n",
    "\n",
    "# -------------------------------------------------\n",
    "# Removendo o índice existente\n",
    "cursor.execute(\"DROP INDEX idx_v13;\")\n",
    "\n",
    "# Recriando o índice para o atributo 'v'\n",
    "start_time = time.time()\n",
    "cursor.execute(\"CREATE INDEX idx_v13 ON t(v DESC NULLS FIRST);\")\n",
    "end_time = time.time()\n",
    "execution_time = end_time - start_time\n",
    "print(\"b) Tempo gasto para recriar o índice: \", execution_time, \" segundos\")\n",
    "\n",
    "# -------------------------------------------------\n",
    "# Removendo a tabela existente\n",
    "cursor.execute(\"DROP TABLE IF EXISTS t;\")\n",
    "\n",
    "# Verificando a existência do índice\n",
    "cursor.execute(\"\"\"\n",
    "# Criando novamente a tabela com 1.000.000 de tuplas\n",
    "cursor.execute(\"CREATE TABLE t (k serial PRIMARY KEY, v integer); INSERT INTO t(v) SELECT trunc(random() * 10) FROM generate_series(1,1000000);\")\n",
    "\n",
    "# Realizando uma consulta para um valor específico (100)\n",
    "start_time = time.time()\n",
    "cursor.execute(\"SELECT * FROM t WHERE v = 100;\")\n",
    "end_time = time.time()\n",
    "execution_time = end_time - start_time\n",
    "print(\"c) Tempo gasto para realizar a consulta: \", execution_time, \" segundos\")\n",
    "\n",
    "# -------------------------------------------------\n",
    "# Verificando a existência do índice\n",
    "cursor.execute(\"\"\"\n",
    "    SELECT EXISTS (\n",
    "        SELECT 1\n",
    "        FROM pg_indexes\n",
    "        WHERE indexname = 'idx_v13');\n",
    "\"\"\")\n",
    "# Verificando a existência do índice\n",
    "cursor.execute(\"\"\"\n",
    "\n",
    "index_exists = cursor.fetchone()[0]\n",
    "\n",
    "if index_exists:\n",
    "    # Removendo o índice existente\n",
    "    cursor.execute(\"DROP INDEX idx_v13;\")\n",
    "\n",
    "# Recriando o índice para o atributo 'v'\n",
    "start_time = time.time()\n",
    "cursor.execute(\"CREATE INDEX idx_v13 ON t(v DESC NULLS FIRST);\")\n",
    "end_time = time.time()\n",
    "execution_time = end_time - start_time\n",
    "print(\"d) Tempo gasto para recriar o índice: \", execution_time, \" segundos\")"
   ]
  }
 ],
 "metadata": {
  "kernelspec": {
   "display_name": "Python 3 (ipykernel)",
   "language": "python",
   "name": "python3"
  },
  "language_info": {
   "codemirror_mode": {
    "name": "ipython",
    "version": 3
   },
   "file_extension": ".py",
   "mimetype": "text/x-python",
   "name": "python",
   "nbconvert_exporter": "python",
   "pygments_lexer": "ipython3",
   "version": "3.10.12"
  }
 },
 "nbformat": 4,
 "nbformat_minor": 2
}
