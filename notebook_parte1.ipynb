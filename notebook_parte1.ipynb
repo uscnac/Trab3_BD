{
 "cells": [
  {
   "cell_type": "markdown",
   "metadata": {},
   "source": [
    "***\n",
    "## Parte I\n",
    "\n",
    "Esta primeira parte do trabalho tem dois objetivos principais. O primeiro é verificar alguns parâmetros do\n",
    "hardware e do software utilizado e o segundo é que os estudantes preparem e se familiarizar com o\n",
    "ambiente do PostgreSQL\n",
    "\n",
    "- _Isabella Almeida Macedo Daniel-22250544_\n",
    "- _Lucas do Nascimento Silva-22250552_\n",
    "- _Luis Felipe dos Santos Lima-22250554_"
   ]
  },
  {
   "cell_type": "markdown",
   "metadata": {},
   "source": [
    "--------------------------------------------\n",
    "### Tarefa 1 – Instalação do PostgreSQL\n",
    "\n",
    "A primeira tarefa deste trabalho consiste na instalação do PostgreSQL.\n",
    "As fontes e as instruções de instalação estão em: http://www.postgresql.org.\n",
    "\n",
    "__Entrega:__ Deve ser apresentada saída do log de instalação.\n"
   ]
  },
  {
   "cell_type": "code",
   "execution_count": 1,
   "metadata": {},
   "outputs": [
    {
     "name": "stdout",
     "output_type": "stream",
     "text": [
      "psql (PostgreSQL) 17.1 (Ubuntu 17.1-1.pgdg22.04+1)\n"
     ]
    }
   ],
   "source": [
    "!psql --version"
   ]
  },
  {
   "cell_type": "markdown",
   "metadata": {},
   "source": [
    "--------------------------------------------\n",
    "### Tarefa 2 – Geração de um BD de testes\n",
    "\n",
    "A segunda tarefa deste trabalho consiste na criação de banco de dados em cada um dos sistemas e o\n",
    "povoamento destas tabelas com dados sintéticos.\n",
    "Para a definição do esquema das tabelas e os dados a\n",
    "serem carregados usaremos a especificação e os utilitários fornecidos pelos Benchmark TPC-H\n",
    "(http://www.tpc.org/tpch/).\n",
    "\n",
    "Para geração do BD no PostgreSQL, siga as instruções disponíveis em:\n",
    "https://github.com/foliveirafilho/tpch-pgsql\n",
    "\n",
    "__Entrega:__ Devem ser apresentadas as saídas da execução dos scripts de geração.\n"
   ]
  },
  {
   "cell_type": "code",
   "execution_count": 1,
   "metadata": {},
   "outputs": [
    {
     "name": "stdout",
     "output_type": "stream",
     "text": [
      "fatal: destination path 'tpch-pgsql' already exists and is not an empty directory.\n",
      "repositório clonado\n"
     ]
    }
   ],
   "source": [
    "!git clone https://github.com/foliveirafilho/tpch-pgsql.git\n",
    "\n",
    "print(\"repositório clonado\")"
   ]
  },
  {
   "cell_type": "code",
   "execution_count": 2,
   "metadata": {},
   "outputs": [
    {
     "name": "stdout",
     "output_type": "stream",
     "text": [
      "replace tpch-dbgen-32f1c1b92d1664dba542e927d23d86ffa57aa253/.gitignore? [y]es, [n]o, [A]ll, [N]one, [r]ename: ^C\n",
      "os arquivos foram baixados\n"
     ]
    }
   ],
   "source": [
    "!cd tpch-pgsql && wget -q https://github.com/electrum/tpch-dbgen/archive/32f1c1b92d1664dba542e927d23d86ffa57aa253.zip -O tpch-dbgen.zip\n",
    "!cd tpch-pgsql && unzip -q tpch-dbgen.zip && mv tpch-dbgen-32f1c1b92d1664dba542e927d23d86ffa57aa253 tpch-dbgen && rm tpch-dbgen.zip\n",
    "\n",
    "print(\"os arquivos foram baixados\")"
   ]
  },
  {
   "cell_type": "code",
   "execution_count": 4,
   "metadata": {},
   "outputs": [
    {
     "name": "stdout",
     "output_type": "stream",
     "text": [
      "gcc (Ubuntu 11.4.0-1ubuntu1~22.04) 11.4.0\n",
      "Copyright (C) 2021 Free Software Foundation, Inc.\n",
      "This is free software; see the source for copying conditions.  There is NO\n",
      "warranty; not even for MERCHANTABILITY or FITNESS FOR A PARTICULAR PURPOSE.\n",
      "\n"
     ]
    }
   ],
   "source": [
    "!gcc --version"
   ]
  },
  {
   "cell_type": "code",
   "execution_count": 5,
   "metadata": {},
   "outputs": [
    {
     "name": "stdout",
     "output_type": "stream",
     "text": [
      "Python 3.10.12\n"
     ]
    }
   ],
   "source": [
    "!python3 --version"
   ]
  },
  {
   "cell_type": "code",
   "execution_count": 6,
   "metadata": {},
   "outputs": [
    {
     "name": "stdout",
     "output_type": "stream",
     "text": [
      "Defaulting to user installation because normal site-packages is not writeable\n",
      "Looking in indexes: https://pypi.org/simple, https://pypi.ngc.nvidia.com\n",
      "Requirement already satisfied: psycopg2-binary in /home/luis/.local/lib/python3.10/site-packages (from -r tpch-pgsql/requirements.txt (line 1)) (2.9.10)\n",
      "Requirement already satisfied: mock in /home/luis/.local/lib/python3.10/site-packages (from -r tpch-pgsql/requirements.txt (line 2)) (5.1.0)\n"
     ]
    }
   ],
   "source": [
    "!pip3 install -r tpch-pgsql/requirements.txt"
   ]
  },
  {
   "cell_type": "code",
   "execution_count": 7,
   "metadata": {},
   "outputs": [
    {
     "name": "stdout",
     "output_type": "stream",
     "text": [
      "PostgreSQL 17.1 (Ubuntu 17.1-1.pgdg22.04+1)\n"
     ]
    }
   ],
   "source": [
    "!pg_config --version"
   ]
  },
  {
   "cell_type": "code",
   "execution_count": 8,
   "metadata": {},
   "outputs": [
    {
     "name": "stdout",
     "output_type": "stream",
     "text": [
      "[sudo] senha para luis: createuser: erro: criação de nova role falhou: ERRO:  a função de banco de dados (role) \"tpch\" já existe\n",
      "[sudo] senha para luis: createdb: erro: criação do banco de dados falhou: ERRO:  o banco de dados \"tpchdb\" já existe\n"
     ]
    }
   ],
   "source": [
    "!sudo -S -u postgres createuser tpch < mypassword.txt\n",
    "!sudo -S -u postgres createdb tpchdb < mypassword.txt"
   ]
  },
  {
   "cell_type": "code",
   "execution_count": 9,
   "metadata": {},
   "outputs": [
    {
     "name": "stdout",
     "output_type": "stream",
     "text": [
      "[sudo] senha para luis: ALTER ROLE\n",
      "[sudo] senha para luis: GRANT\n"
     ]
    }
   ],
   "source": [
    "!sudo -S -u postgres psql -U postgres -c \"ALTER USER tpch WITH ENCRYPTED PASSWORD 'test123';\" < mypassword.txt\n",
    "!sudo -S -u postgres psql -U postgres -c \"GRANT ALL PRIVILEGES ON DATABASE tpchdb TO tpch;\" < mypassword.txt"
   ]
  },
  {
   "cell_type": "code",
   "execution_count": 10,
   "metadata": {},
   "outputs": [
    {
     "name": "stdout",
     "output_type": "stream",
     "text": [
      "make: Nada a ser feito para 'all'.\n",
      "built dbgen from source\n",
      "TPC-H Population Generator (Version 2.14.0)\n",
      "Copyright Transaction Processing Performance Council 1994 - 2010\n",
      "Generating data for suppliers table\n",
      "Preloading text ...                                                                                                                                                                                                                                                                                                              1 1 1 1 1 1 1 1 1 1 1 1 1 1 1 1 1 1 1 1 1 1 1 1 1 1 1 1 1 1 1 1 1 1 1 1 1 1 1 1 1 1 1 1 1 1 1 1 1 1 1 1 1 1 1 1 1 1 1 1 1 1 1 1 1 1 1 1 1 1 1 1 1 1 1 1 1 1 1 1 1 1 1 1 1 1 1 1 1 1 1 1 1 1 1 1 1 1 1 1 1 1 1 1 1 1 1 1 1 1 1 1 1 1 1 1 1 1 1 1 1 1 1 1 1 1 1 1 1 1 1 1 1 1 1 1 1 1 1 1 1 1 1 1 1 1 1 1 1 1 1 1 1 1 1 1 1 2 2 2 2 2 2 2 2 2 2 2 2 2 2 2 2 2 2 2 2 2 2 2 2 2 2 2 2 2 2 2 2 2 2 2 2 2 2 2 2 2 2 2 2 2 2 2 2 2 2 2 2 2 2 2 2 2 2 2 2 2 2 2 2 2 2 2 2 2 2 2 2 2 2 2 2 2 2 2 2 2 2 2 2 2 2 2 2 2 2 2 2 2 2 2 2 2 2 2 2 2 2 2 2 2 2 2 2 2 2 2 2 2 2 2 2 2 2 2 2 2 2 2 2 2 2 2 2 2 2 2 2 2 2 2 2 2 2 2 2 2 2 2 2 2 2 2 2 2 2 2 2 2 2 2 2 2 3 3 3 3 3 3 3 3 3 3 3 3 3 3 3 3 3 3 3 3 3 3 3 3 3 3 3 3 3 3 3 3 3 3 3 3 3 3 3 3 3 3 3 3 3 3 3 3 3 3 3 3 3 3 3 3 3 3 3 3 3 3 3 3 3 3 3 3 3 3 3 3 3 3 3 3 3 3 3 3 3 3 3 3 3 3 3 3 3 3 3 3 3 3 3 3 3 3 3 3 3 3 3 3 3 3 3 3 3 3 3 3 3 3 3 3 3 3 3 3 3 3 3 3 3 3 3 3 3 3 3 3 3 3 3 3 3 3 3 3 3 3 3 3 3 3 3 3 3 3 3 3 3 3 3 3 3 3 4 4 4 4 4 4 4 4 4 4 4 4 4 4 4 4 4 4 4 4 4 4 4 4 4 4 4 4 4 4 4 4 4 4 4 4 4 4 4 4 4 4 4 4 4 4 4 4 4 4 4 4 4 4 4 4 4 4 4 4 4 4 4 4 4 4 4 4 4 4 4 4 4 4 4 4 4 4 4 4 4 4 4 4 4 4 4 4 4 4 4 4 4 4 4 4 4 4 4 4 4 4 4 4 4 4 4 4 4 4 4 4 4 4 4 4 4 4 4 4 4 4 4 4 4 4 4 4 4 4 4 4 4 4 4 4 4 4 4 4 4 4 4 4 4 4 4 4 4 4 4 4 4 4 4 4 4 5 5 5 5 5 5 5 5 5 5 5 5 5 5 5 5 5 5 5 5 5 5 5 5 5 5 5 5 5 5 5 5 5 5 5 5 5 5 5 5 5 5 5 5 5 5 5 5 5 5 5 5 5 5 5 5 5 5 5 5 5 5 5 5 5 5 5 5 5 5 5 5 5 5 5 5 5 5 5 5 5 5 5 5 5 5 5 5 5 5 5 5 5 5 5 5 5 5 5 5 5 5 5 5 5 5 5 5 5 5 5 5 5 5 5 5 5 5 5 5 5 5 5 5 5 5 5 5 5 5 5 5 5 5 5 5 5 5 5 5 5 5 5 5 5 5 5 5 5 5 5 5 5 5 5 5 5 6 6 6 6 6 6 6 6 6 6 6 6 6 6 6 6 6 6 6 6 6 6 6 6 6 6 6 6 6 6 6 6 6 6 6 6 6 6 6 6 6 6 6 6 6 6 6 6 6 6 6 6 6 6 6 6 6 6 6 6 6 6 6 6 6 6 6 6 6 6 6 6 6 6 6 6 6 6 6 6 6 6 6 6 6 6 6 6 6 6 6 6 6 6 6 6 6 6 6 6 6 6 6 6 6 6 6 6 6 6 6 6 6 6 6 6 6 6 6 6 6 6 6 6 6 6 6 6 6 6 6 6 6 6 6 6 6 6 6 6 6 6 6 6 6 6 6 6 6 6 6 6 6 6 6 6 6 6 7 7 7 7 7 7 7 7 7 7 7 7 7 7 7 7 7 7 7 7 7 7 7 7 7 7 7 7 7 7 7 7 7 7 7 7 7 7 7 7 7 7 7 7 7 7 7 7 7 7 7 7 7 7 7 7 7 7 7 7 7 7 7 7 7 7 7 7 7 7 7 7 7 7 7 7 7 7 7 7 7 7 7 7 7 7 7 7 7 7 7 7 7 7 7 7 7 7 7 7 7 7 7 7 7 7 7 7 7 7 7 7 7 7 7 7 7 7 7 7 7 7 7 7 7 7 7 7 7 7 7 7 7 7 7 7 7 7 7 7 7 7 7 7 7 7 7 7 7 7 7 7 7 7 7 7 7 8 8 8 8 8 8 8 8 8 8 8 8 8 8 8 8 8 8 8 8 8 8 8 8 8 8 8 8 8 8 8 8 8 8 8 8 8 8 8 8 8 8 8 8 8 8 8 8 8 8 8 8 8 8 8 8 8 8 8 8 8 8 8 8 8 8 8 8 8 8 8 8 8 8 8 8 8 8 8 8 8 8 8 8 8 8 8 8 8 8 8 8 8 8 8 8 8 8 8 8 8 8 8 8 8 8 8 8 8 8 8 8 8 8 8 8 8 8 8 8 8 8 8 8 8 8 8 8 8 8 8 8 8 8 8 8 8 8 8 8 8 8 8 8 8 8 8 8 8 8 8 8 8 8 8 8 8 9 9 9 9 9 9 9 9 9 9 9 9 9 9 9 9 9 9 9 9 9 9 9 9 9 9 9 9 9 9 9 9 9 9 9 9 9 9 9 9 9 9 9 9 9 9 9 9 9 9 9 9 9 9 9 9 9 9 9 9 9 9 9 9 9 9 9 9 9 9 9 9 9 9 9 9 9 9 9 9 9 9 9 9 9 9 9 9 9 9 9 9 9 9 9 9 9 9 9 9 9 9 9 9 9 9 9 9 9 9 9 9 9 9 9 9 9 9 9 9 9 9 9 9 9 9 9 9 9 9 9 9 9 9 9 9 9 9 9 9 9 9 9 9 9 9 9 9 9 9 9 9 9 9 9 9 91010101010101010\n",
      "done.\n",
      "Generating data for customers tabledone.\n",
      "Generating data for orders/lineitem tablesOpen failed for ./orders.tbl at bm_utils.c:417\n",
      "could not generate data files.\n",
      "Sucesso ao criar o banco de dados !!!\n"
     ]
    }
   ],
   "source": [
    "# Entrando no diretório tpch-pgsql e Executando o script de preparação do banco de dados\n",
    "!cd tpch-pgsql && python3 tpch_pgsql.py prepare -p 5432 -U tpch -W test123 -d tpchdb\n",
    "\n",
    "print(\"Sucesso ao criar o banco de dados !!!\")"
   ]
  },
  {
   "cell_type": "code",
   "execution_count": 13,
   "metadata": {},
   "outputs": [
    {
     "name": "stdout",
     "output_type": "stream",
     "text": [
      "dropped existing tables\n",
      "cleaned database tpchdb\n",
      "done creating schemas\n",
      "done loading data to tables\n",
      "done creating indexes and foreign keys\n",
      "============================================================\n",
      "=========================== Load ===========================\n",
      "============================================================\n",
      "create_schema: : 0:00:00.015180\n",
      "load_data: 0:00:13.684943\n",
      "index_tables: 0:00:13.428732\n",
      "============================================================\n",
      "======================= End Results ========================\n",
      "============================================================\n"
     ]
    }
   ],
   "source": [
    "!cd tpch-pgsql && python3 tpch_pgsql.py load -p 5432 -U tpch -W test123 -d tpchdb"
   ]
  },
  {
   "cell_type": "markdown",
   "metadata": {},
   "source": [
    "-----------------------------\n",
    "### Tarefa 3 – Execução de Consultas\n",
    "A terceira tarefa deste trabalho consiste na execução de uma série de consultas do Benchmark TPC-H\n",
    "nos sistemas instalados.\n",
    "\n",
    "Usando as instruções disponíveis nas mesmas URLs acima, execute os passos referentes ao\n",
    "PostgreSQL.\n",
    "\n",
    "__Entrega:__ Devem ser apresentadas as consultas e os seus resultados\n"
   ]
  },
  {
   "cell_type": "markdown",
   "metadata": {},
   "source": [
    "#### Consulta 1.sql"
   ]
  },
  {
   "cell_type": "code",
   "execution_count": 14,
   "metadata": {},
   "outputs": [
    {
     "name": "stdout",
     "output_type": "stream",
     "text": [
      "-- using 1731880669 as a seed to the RNG\n",
      "\n",
      "\n",
      "select\n",
      "\tl_returnflag,\n",
      "\tl_linestatus,\n",
      "\tsum(l_quantity) as sum_qty,\n",
      "\tsum(l_extendedprice) as sum_base_price,\n",
      "\tsum(l_extendedprice * (1 - l_discount)) as sum_disc_price,\n",
      "\tsum(l_extendedprice * (1 - l_discount) * (1 + l_tax)) as sum_charge,\n",
      "\tavg(l_quantity) as avg_qty,\n",
      "\tavg(l_extendedprice) as avg_price,\n",
      "\tavg(l_discount) as avg_disc,\n",
      "\tcount(*) as count_order\n",
      "from\n",
      "\tlineitem\n",
      "where\n",
      "\tl_shipdate <= date '1998-12-01' - interval '92' day\n",
      "group by\n",
      "\tl_returnflag,\n",
      "\tl_linestatus\n",
      "order by\n",
      "\tl_returnflag,\n",
      "\tl_linestatus\n",
      "LIMIT 1;\n"
     ]
    }
   ],
   "source": [
    "!cat /home/luis/Amazon/tp3_BD/notebooks/tpch-pgsql/query_root/perf_query_gen/1.sql"
   ]
  },
  {
   "cell_type": "code",
   "execution_count": 15,
   "metadata": {
    "scrolled": true
   },
   "outputs": [
    {
     "name": "stdout",
     "output_type": "stream",
     "text": [
      " l_returnflag | l_linestatus | sum_qty  | sum_base_price |  sum_disc_price  |     sum_charge     |       avg_qty       |     avg_price      |        avg_disc        | count_order \n",
      "--------------+--------------+----------+----------------+------------------+--------------------+---------------------+--------------------+------------------------+-------------\n",
      " A            | F            | 37734107 | 56586554400.73 | 53758257134.8700 | 55909065222.827692 | 25.5220058532573370 | 38273.129734621672 | 0.04998529583839761162 |     1478493\n",
      "(1 linha)\n",
      "\n"
     ]
    }
   ],
   "source": [
    "!PGPASSWORD=test123 psql -h localhost -p 5432 -U tpch -d tpchdb -f /home/luis/Amazon/tp3_BD/notebooks/tpch-pgsql/query_root/perf_query_gen/1.sql"
   ]
  },
  {
   "cell_type": "markdown",
   "metadata": {},
   "source": [
    "#### Consulta 2.sql"
   ]
  },
  {
   "cell_type": "code",
   "execution_count": 16,
   "metadata": {},
   "outputs": [
    {
     "name": "stdout",
     "output_type": "stream",
     "text": [
      "-- using 1731880669 as a seed to the RNG\n",
      "\n",
      "\n",
      "select\n",
      "\ts_acctbal,\n",
      "\ts_name,\n",
      "\tn_name,\n",
      "\tp_partkey,\n",
      "\tp_mfgr,\n",
      "\ts_address,\n",
      "\ts_phone,\n",
      "\ts_comment\n",
      "from\n",
      "\tpart,\n",
      "\tsupplier,\n",
      "\tpartsupp,\n",
      "\tnation,\n",
      "\tregion\n",
      "where\n",
      "\tp_partkey = ps_partkey\n",
      "\tand s_suppkey = ps_suppkey\n",
      "\tand p_size = 46\n",
      "\tand p_type like '%NICKEL'\n",
      "\tand s_nationkey = n_nationkey\n",
      "\tand n_regionkey = r_regionkey\n",
      "\tand r_name = 'ASIA'\n",
      "\tand ps_supplycost = (\n",
      "\t\tselect\n",
      "\t\t\tmin(ps_supplycost)\n",
      "\t\tfrom\n",
      "\t\t\tpartsupp,\n",
      "\t\t\tsupplier,\n",
      "\t\t\tnation,\n",
      "\t\t\tregion\n",
      "\t\twhere\n",
      "\t\t\tp_partkey = ps_partkey\n",
      "\t\t\tand s_suppkey = ps_suppkey\n",
      "\t\t\tand s_nationkey = n_nationkey\n",
      "\t\t\tand n_regionkey = r_regionkey\n",
      "\t\t\tand r_name = 'ASIA'\n",
      "\t)\n",
      "order by\n",
      "\ts_acctbal desc,\n",
      "\tn_name,\n",
      "\ts_name,\n",
      "\tp_partkey\n",
      "LIMIT 100;\n"
     ]
    }
   ],
   "source": [
    "!cat /home/luis/Amazon/tp3_BD/notebooks/tpch-pgsql/query_root/perf_query_gen/2.sql"
   ]
  },
  {
   "cell_type": "code",
   "execution_count": 17,
   "metadata": {},
   "outputs": [
    {
     "name": "stdout",
     "output_type": "stream",
     "text": [
      " s_acctbal |          s_name           |          n_name           | p_partkey |          p_mfgr           |                s_address                 |     s_phone     |                                              s_comment                                               \n",
      "-----------+---------------------------+---------------------------+-----------+---------------------------+------------------------------------------+-----------------+------------------------------------------------------------------------------------------------------\n",
      "   9940.38 | Supplier#000008242        | INDONESIA                 |    150696 | Manufacturer#3            | nWK3gGNbv815 hQkLupnBYtr j               | 19-964-284-8680 | braids. requests detect slyly about the slyly unusual theodo\n",
      "   9899.24 | Supplier#000002747        | INDIA                     |     40242 | Manufacturer#4            | Tg3 99K0lqdnqP3tr                        | 18-107-661-2022 |  requests dazzle slyly above the deposits. ironically even accounts hagg\n",
      "   9870.20 | Supplier#000007313        | INDIA                     |    107312 | Manufacturer#4            | meT,KifX5L2se                            | 18-769-841-4284 | en ideas cajole furiously across the daring gifts. carefully bold accounts boost fluffily\n",
      "   9827.80 | Supplier#000004150        | INDIA                     |     49141 | Manufacturer#1            | 0jGjCmN9fwgJ2jG,                         | 18-994-717-4433 | ons cajole slyly according to the special \n",
      "   9827.80 | Supplier#000004150        | INDIA                     |    119127 | Manufacturer#4            | 0jGjCmN9fwgJ2jG,                         | 18-994-717-4433 | ons cajole slyly according to the special \n",
      "   9794.83 | Supplier#000009308        | CHINA                     |    131768 | Manufacturer#4            | yV4zFJaBvx9P5wLH7,                       | 28-854-703-2869 | l packages boost always slyly\n",
      "   9711.40 | Supplier#000008582        | VIETNAM                   |    193543 | Manufacturer#2            | B,Sy8pyruZPcyhEMUf                       | 31-274-355-1342 | ultipliers. carefully final requests lose fluffily? regular asymptotes sleep according to\n",
      "   9706.86 | Supplier#000001241        | INDIA                     |    178723 | Manufacturer#3            | TsZ  TYfcF5d,PRf9                        | 18-845-548-4756 | lly special theodolites will have to use. regular packages are slyly carefully special reque\n",
      "   9702.55 | Supplier#000004450        | JAPAN                     |    121937 | Manufacturer#3            | cnrtMcKzXBC1VcE0VWpXl                    | 22-386-635-7767 | g foxes. foxes affix furiously express excuses.\n",
      "   9702.55 | Supplier#000004450        | JAPAN                     |    124449 | Manufacturer#3            | cnrtMcKzXBC1VcE0VWpXl                    | 22-386-635-7767 | g foxes. foxes affix furiously express excuses.\n",
      "   9694.06 | Supplier#000004614        | INDIA                     |     14613 | Manufacturer#1            | fwaCEelmSGWyr9k                          | 18-716-786-1412 | ic instructions cajole furiously along the furiously even mult\n",
      "   9648.62 | Supplier#000009382        | CHINA                     |    176864 | Manufacturer#3            | U635Ufh4OsWM8BBR8IbEOFFV0FQ              | 28-592-800-9172 |  dependencies are slyly pending pack\n",
      "   9626.81 | Supplier#000008251        | INDIA                     |     70729 | Manufacturer#2            | 2cXnsQkTZiX                              | 18-536-106-2778 | deposits boost blithely even r\n",
      "   9626.81 | Supplier#000008251        | INDIA                     |     80726 | Manufacturer#2            | 2cXnsQkTZiX                              | 18-536-106-2778 | deposits boost blithely even r\n",
      "   9626.81 | Supplier#000008251        | INDIA                     |    143222 | Manufacturer#5            | 2cXnsQkTZiX                              | 18-536-106-2778 | deposits boost blithely even r\n",
      "   9594.49 | Supplier#000000241        | INDIA                     |    195202 | Manufacturer#4            | K3sXvTEnHT9yQSbzZmbPNY0,iPQsmySI         | 18-213-514-9357 | arefully final foxes. regular, pending requests haggle busily special asymptote\n",
      "   9593.18 | Supplier#000005424        | CHINA                     |     10421 | Manufacturer#4            | eJ44,Ds5P6Ljs2ohg5oEYMMbOAHN             | 28-249-524-3207 |  dependencies affix blithely furiou\n",
      "   9586.20 | Supplier#000003680        | JAPAN                     |    116146 | Manufacturer#2            | w b4NWNtVCfK BF                          | 22-993-207-3523 | gifts boost after the silent pinto beans.\n",
      "   9583.11 | Supplier#000000173        | JAPAN                     |     27670 | Manufacturer#3            | OqQzF6rfxDvkjpMXVCwGfQzj4oTHBHyW5kC5Gjxd | 22-640-545-4690 | ly regular escapades use among the express deposits. unusual, silent deposits wake. ins\n",
      "   9583.11 | Supplier#000000173        | JAPAN                     |     60172 | Manufacturer#4            | OqQzF6rfxDvkjpMXVCwGfQzj4oTHBHyW5kC5Gjxd | 22-640-545-4690 | ly regular escapades use among the express deposits. unusual, silent deposits wake. ins\n",
      "   9580.96 | Supplier#000003573        | VIETNAM                   |      6072 | Manufacturer#4            | kwtzuhsdpNt                              | 31-324-183-9738 | against the furiously stealthy accounts. slyly ironic deposits use. regular, ironic req\n",
      "   9580.96 | Supplier#000003573        | VIETNAM                   |     41068 | Manufacturer#2            | kwtzuhsdpNt                              | 31-324-183-9738 | against the furiously stealthy accounts. slyly ironic deposits use. regular, ironic req\n",
      "   9576.53 | Supplier#000008400        | CHINA                     |     95890 | Manufacturer#4            | y0rF4,BBqwBE6hFAdkEMOeSVoVydZ            | 28-215-743-8600 | ecial instructions. regular, pending deposits boost stealthily after the requests. bold\n",
      "   9569.85 | Supplier#000000459        | CHINA                     |     50458 | Manufacturer#3            | w12ixcTkh6AtG1LvWxX8El8Nf4vEGQiZrrpy     | 28-295-883-6516 | arefully even deposits. furiously final requests sleep. packages sleep. q\n",
      "   9560.64 | Supplier#000009656        | INDONESIA                 |    162107 | Manufacturer#2            | vKPPjhrw6lnQmIvuAj70e                    | 19-362-745-1503 | refully according to the \n",
      "   9542.82 | Supplier#000005546        | INDONESIA                 |     50535 | Manufacturer#5            | Jcu IfutR4vTFQUg8ngY8sSEjVtUtnUj         | 19-922-350-7889 |  carefully. fluffily bold theodolites detect fluffily whithout the fluffi\n",
      "   9521.69 | Supplier#000007614        | INDIA                     |    120077 | Manufacturer#5            | LIoiHPKlog0vYRCb4lciK6U                  | 18-926-882-2449 | latelets along the carefully even requests cajole blithely \n",
      "   9519.78 | Supplier#000009215        | INDIA                     |    171663 | Manufacturer#1            | g5zNuDDRqHVPz106DoCpVL7PQtVWya1DMzsBi0   | 18-151-724-1447 | p fluffily unusual packages. furiously even requests among th\n",
      "   9504.89 | Supplier#000000767        | VIETNAM                   |    190766 | Manufacturer#3            | bHEuqKKdmCMEKOV                          | 31-880-346-2583 | e slyly carefully special accounts. furiously bold foxes sleep regularly. furiously unusual\n",
      "   9480.92 | Supplier#000007940        | INDONESIA                 |    190382 | Manufacturer#5            | t15LYMuZRsuaZhEoqHrJiI,GFgBbC750Dm2ivDy3 | 19-609-664-5458 | . quiet excuses across the blithely regular accounts boost fluffily regula\n",
      "   9464.26 | Supplier#000000507        | INDONESIA                 |    120506 | Manufacturer#4            | aF2w4JF8qV aaqApYqzTFtIXtKV57Na          | 19-981-569-8699 | p carefully besides the furiou\n",
      "   9460.36 | Supplier#000006487        | JAPAN                     |     56486 | Manufacturer#3            | G0UqR 8vMfI,YBcHlwydjJtqwvW              | 22-230-835-2325 | ng the regular, furious asymptotes-- blithely final Tiresias above the special courts h\n",
      "   9389.01 | Supplier#000005245        | INDONESIA                 |    185244 | Manufacturer#3            | M0Bxbdoh5zB2FmYK3fV8DVr8QN4ZqVKn         | 19-499-819-2771 | e express deposits boost ab\n",
      "   9358.58 | Supplier#000001875        | JAPAN                     |     86858 | Manufacturer#5            | Tle 4UCeN4gL                             | 22-550-981-2256 | coys nag carefully. quickly unusual foxes shall h\n",
      "   9357.02 | Supplier#000005321        | INDIA                     |    100300 | Manufacturer#4            | uPBUzETr1ILHP1k3niRF                     | 18-380-243-7261 | d the special dependencies. blithely ironic dolphins about the carefully even package\n",
      "   9345.49 | Supplier#000008471        | JAPAN                     |    133444 | Manufacturer#3            | yby8sR0,75PDNPOJmWtHFu8eCMPEkLpctO       | 22-536-259-4439 | regular packages. blithely pending requests above the carefully final cour\n",
      "   9287.14 | Supplier#000005460        | JAPAN                     |    147917 | Manufacturer#4            | QMA17qwZCNqLKfwIVf67Ha,YU9pdn5ci3ZhTJrg  | 22-183-618-7004 | s was alongside of the ideas. slyly regular theodolites cajole carefully. deposits sleep blithely a\n",
      "   9238.79 | Supplier#000000550        | JAPAN                     |    150549 | Manufacturer#3            | QQavssDXnYHbvOrg                         | 22-648-743-9295 | en, bold ideas. ironic, unusual deposits boost carefully quick accounts. slyly e\n",
      "   9182.14 | Supplier#000004525        | CHINA                     |    124524 | Manufacturer#5            | xQNjiof2bcjYhUA2jSqApTzKMHcGS            | 28-145-832-7821 | g the furiously ironic deposits. bold, final depths cajole carefully\n",
      "   9182.14 | Supplier#000004525        | CHINA                     |    196967 | Manufacturer#1            | xQNjiof2bcjYhUA2jSqApTzKMHcGS            | 28-145-832-7821 | g the furiously ironic deposits. bold, final depths cajole carefully\n",
      "   9168.07 | Supplier#000007073        | JAPAN                     |    107072 | Manufacturer#3            | 6PzKtod4BPf2krTkukFc EwBYJ 08cC1EebwXzSM | 22-560-424-4848 | y even accounts integrate busily regular requests. fluffily slow accounts cajole care\n",
      "   9159.04 | Supplier#000002119        | INDIA                     |    132118 | Manufacturer#1            | E8p6oQMDNR7,NNGxqoGDZsoood9sYFt6NEH,     | 18-518-384-9729 | osits boost quickly. deposits according to the furiously idle excuses are against the blithely qu\n",
      "   9109.12 | Supplier#000005744        | JAPAN                     |     43239 | Manufacturer#5            | ryzWvnrxMg8km1YMVZaIfOUgv, XVfM          | 22-916-625-1543 | cial asymptotes detect carefully among the carefully even accounts. foxes affix c\n",
      "   9109.12 | Supplier#000005744        | JAPAN                     |     78222 | Manufacturer#4            | ryzWvnrxMg8km1YMVZaIfOUgv, XVfM          | 22-916-625-1543 | cial asymptotes detect carefully among the carefully even accounts. foxes affix c\n",
      "   9095.93 | Supplier#000007164        | INDIA                     |    187163 | Manufacturer#1            | gBl2v8LJQuR0v8Ln4m84c                    | 18-840-734-8244 | odolites across the final requests sleep fluffily regular ideas. express instructions\n",
      "   9094.47 | Supplier#000009830        | INDONESIA                 |     49829 | Manufacturer#3            | ogbH63pS,VAoiGpDaMDRTSq7coA              | 19-230-592-9116 | ts. quickly pending packages detect carefully among the furiously regular instructions. ent\n",
      "   9094.47 | Supplier#000009830        | INDONESIA                 |    102299 | Manufacturer#3            | ogbH63pS,VAoiGpDaMDRTSq7coA              | 19-230-592-9116 | ts. quickly pending packages detect carefully among the furiously regular instructions. ent\n",
      "   9093.94 | Supplier#000000804        | VIETNAM                   |     25799 | Manufacturer#1            | N3B GhiD6nanhYdssmqlpy2XVz5jZH           | 31-830-383-7329 | osits. regular theodolites are regularly slyly unusu\n",
      "   9093.94 | Supplier#000000804        | VIETNAM                   |     78296 | Manufacturer#3            | N3B GhiD6nanhYdssmqlpy2XVz5jZH           | 31-830-383-7329 | osits. regular theodolites are regularly slyly unusu\n",
      "   9076.51 | Supplier#000001869        | VIETNAM                   |     36862 | Manufacturer#4            | nogoCdaFQii,ri9rs3P8f5rPt1wVOMw9I7TmypxK | 31-431-165-3867 | regular dependencies sleep final, bold deposits. slow platelets according to the\n",
      "   9030.71 | Supplier#000007082        | CHINA                     |     72067 | Manufacturer#1            | 9lwYCbYeQ8yywFjuL870VfHcipF3T2           | 28-577-801-5928 | . silent, regular sauternes hang furiously across the furiously iron\n",
      "   9029.85 | Supplier#000000337        | JAPAN                     |     65324 | Manufacturer#5            | IRrbCdIS,GB4YYhr                         | 22-951-643-8793 | en theodolites-- special, final deposits should have to boost ca\n",
      "   9026.09 | Supplier#000005956        | VIETNAM                   |    108425 | Manufacturer#5            | iFVGvHqPU5lu8PiOXgtTky                   | 31-490-709-5774 | even ideas cajole alongside \n",
      "   9019.36 | Supplier#000004671        | VIETNAM                   |    104670 | Manufacturer#5            | GxMjbOOYNQa1I5r4q7MR                     | 31-411-931-9792 | l ideas: blithely unusual theodolites nag after the slyly unusual acc\n",
      "   9003.68 | Supplier#000001696        | INDONESIA                 |     56685 | Manufacturer#1            | 1 8XLqwCH,fbKVtW6HVGt3bl17PQ9vAj4        | 19-782-434-5708 | pecial deposits doze across the furiously ironic requests. blithely regular requests integrate blith\n",
      "   8998.40 | Supplier#000000581        | CHINA                     |     90580 | Manufacturer#5            | X pNyEcNqxYwiP0gJ7FzkJ,haGkn             | 28-320-345-9799 | cross the quick packages wake carefully except the accounts?\n",
      "   8897.56 | Supplier#000005722        | INDONESIA                 |    175721 | Manufacturer#4            | 8gsTxNzb3IBTwguXYHG2Mp                   | 19-364-923-8043 | ccounts sleep sometimes regular theodolites. doggedly silent foxes wake furiously final the\n",
      "   8871.93 | Supplier#000009750        | VIETNAM                   |     19749 | Manufacturer#4            | KZspEZRr9rc8,NaS                         | 31-840-622-1678 |  ironic, regular requests integrate above the caref\n",
      "   8861.16 | Supplier#000002862        | INDONESIA                 |     65343 | Manufacturer#3            | 4lulEErFf6wQZfWtphZx5hNaDS3wmDIHiYH4     | 19-472-558-7064 | arefully express asymptotes nag fluffily \n",
      "   8861.16 | Supplier#000002862        | INDONESIA                 |    182861 | Manufacturer#4            | 4lulEErFf6wQZfWtphZx5hNaDS3wmDIHiYH4     | 19-472-558-7064 | arefully express asymptotes nag fluffily \n",
      "   8815.78 | Supplier#000002372        | INDIA                     |     44859 | Manufacturer#4            | BwftakIRj5NBO3x0lcAJZbs8E k8yCL7f        | 18-542-265-3537 | arefully. special courts haggl\n",
      "   8798.71 | Supplier#000007229        | VIETNAM                   |     52218 | Manufacturer#1            | iwNoWdaURFzLAsQHxK,BeOPpI5TOTo           | 31-503-440-8378 |  the quickly final deposits wake fluffily express ideas. even accounts sublate fluffi\n",
      "   8742.86 | Supplier#000008025        | VIETNAM                   |     13022 | Manufacturer#5            | 26W8ar5EmIVbc,kOg7pu9Xa2                 | 31-411-226-5921 | gle blithely according to the blithe\n",
      "   8740.51 | Supplier#000009954        | VIETNAM                   |    157438 | Manufacturer#4            | VzElx9ihlXFJLIQw2Hn4bC2                  | 31-657-448-4812 | s sleep against the carefully regular packages. final instructions poach express, final sau\n",
      "   8740.51 | Supplier#000009954        | VIETNAM                   |    194915 | Manufacturer#4            | VzElx9ihlXFJLIQw2Hn4bC2                  | 31-657-448-4812 | s sleep against the carefully regular packages. final instructions poach express, final sau\n",
      "   8656.48 | Supplier#000009109        | VIETNAM                   |    186590 | Manufacturer#5            | TJWdOCmg1g2RtIU1SlTi3bxP9GhqOZLLmUJb     | 31-876-418-8871 | cajole slyly blithely final packages. blithely even excuses cajole carefully according\n",
      "   8611.17 | Supplier#000001638        | JAPAN                     |     66625 | Manufacturer#3            | Kvwg58SG5NmUo1Ovy                        | 22-635-832-5981 | ly final ideas. slyly regular pi\n",
      "   8570.23 | Supplier#000005602        | JAPAN                     |     13100 | Manufacturer#2            | wj6nyIWETvfxVbnqm                        | 22-762-619-6465 | lets. slyly bold requests mold above the asymptotes-- bold acc\n",
      "   8570.23 | Supplier#000005602        | JAPAN                     |     25601 | Manufacturer#3            | wj6nyIWETvfxVbnqm                        | 22-762-619-6465 | lets. slyly bold requests mold above the asymptotes-- bold acc\n",
      "   8547.00 | Supplier#000007939        | VIETNAM                   |    150393 | Manufacturer#4            | i7ua2798FbUx                             | 31-738-305-1815 | ake unusual, special deposits. special pinto beans haggle about the ideas. blith\n",
      "   8531.19 | Supplier#000004948        | INDIA                     |     12446 | Manufacturer#3            | 371vWhovseINrPrUUsJBUOADLVqrxOLrRCf0S    | 18-726-982-1206 | ly pending packages wake furiously slyly final packages. slyly pending gifts dazz\n",
      "   8531.11 | Supplier#000004704        | JAPAN                     |     59693 | Manufacturer#3            | c,AFOIbNtRT2vA769DW4baD                  | 22-365-568-5640 |  across the carefully final \n",
      "   8517.04 | Supplier#000000187        | CHINA                     |     32677 | Manufacturer#5            | oMtyTl6hTyLQhiBwrUaa42zKOjfNobEq         | 28-127-320-9230 | riously along the carefully silent instructions. \n",
      "   8512.48 | Supplier#000000928        | CHINA                     |     35921 | Manufacturer#5            | VL,J8Fq0GI0BnVTaTU9Dcp9Z                 | 28-382-849-1505 | equests are. slyly specia\n",
      "   8498.35 | Supplier#000007678        | INDONESIA                 |     35174 | Manufacturer#2            | mcyyz2Gm12MnVDM6 PTJ 0NOb                | 19-923-359-9505 |  pinto beans-- fluffily quick forges wake above the furious\n",
      "   8473.17 | Supplier#000002064        | INDONESIA                 |    192063 | Manufacturer#1            | t840Ipd5YG7SZyQQUUEQNPZ fQfjJT5lv        | 19-450-298-8597 | fluffily regular, special theodolites. brave dugouts hag\n",
      "   8410.80 | Supplier#000006711        | JAPAN                     |     19207 | Manufacturer#3            | i jqPUnq8DM8S5UHIuiNHxK,iv               | 22-657-264-2458 | bold theodolites. unusual dependencies sleep blithely even theodolites. bold acco\n",
      "   8397.04 | Supplier#000004322        | VIETNAM                   |    124321 | Manufacturer#3            | nYtHA4IrK0n                              | 31-903-735-8227 | . fluffily unusual packages sleep slyly ironic deposits. furiously even realms affix after the \n",
      "   8390.17 | Supplier#000007621        | VIETNAM                   |    195101 | Manufacturer#4            | MAqy4THMPElQ                             | 31-227-850-3395 | rts sleep carefully regular multipliers. thinly regula\n",
      "   8341.98 | Supplier#000007308        | INDONESIA                 |     19804 | Manufacturer#5            | OFlDRSzpirdQmRXavGABZ62,LGxM2UXk1s7y     | 19-686-605-5793 | ular, regular accounts wake across the furiously silent instructions. ironic ideas after the c\n",
      "   8339.22 | Supplier#000006348        | VIETNAM                   |     93838 | Manufacturer#3            | f2KDn2rLnadX8I DZR                       | 31-428-570-8960 | ccounts haggle furiously bravely regular instructions! even excuses\n",
      "   8339.22 | Supplier#000006348        | VIETNAM                   |    171313 | Manufacturer#2            | f2KDn2rLnadX8I DZR                       | 31-428-570-8960 | ccounts haggle furiously bravely regular instructions! even excuses\n",
      "   8329.46 | Supplier#000006012        | JAPAN                     |     43507 | Manufacturer#3            | vef8Lme m3HOJ2rHo4iFhuJYJ7sbSjJn1t,CH    | 22-907-548-8362 | ts-- ruthless, regular ideas wake blithely ironic courts. packages cajole f\n",
      "   8329.46 | Supplier#000006012        | JAPAN                     |    110989 | Manufacturer#1            | vef8Lme m3HOJ2rHo4iFhuJYJ7sbSjJn1t,CH    | 22-907-548-8362 | ts-- ruthless, regular ideas wake blithely ironic courts. packages cajole f\n",
      "   8317.07 | Supplier#000002910        | VIETNAM                   |    190390 | Manufacturer#4            | nlH1gjApxHkQe5SU4iVZwi2xWk88wwhTWRkSvOBB | 31-244-874-6754 | s. busily regular dependencies doze. asymptotes a\n",
      "   8307.35 | Supplier#000009177        | INDIA                     |     29176 | Manufacturer#1            | hoQLFvEPhZn8                             | 18-753-874-1164 | ges use. furiously even excuses use slyly quickly bold platelets. unusual, regular requests haggle \n",
      "   8287.95 | Supplier#000000609        | JAPAN                     |     53093 | Manufacturer#5            | n9 nkdqilT                               | 22-852-519-5068 | ronic, regular ideas nag furiously across the final ideas. bold, express do\n",
      "   8264.47 | Supplier#000004740        | VIETNAM                   |     77218 | Manufacturer#5            | yM0TXkhfjpObafbQhuWU                     | 31-786-280-5667 | lyly bold instructions boost fluffily along the slyly final accounts. bold asymptotes are quickly e\n",
      "   8264.47 | Supplier#000004740        | VIETNAM                   |    184739 | Manufacturer#3            | yM0TXkhfjpObafbQhuWU                     | 31-786-280-5667 | lyly bold instructions boost fluffily along the slyly final accounts. bold asymptotes are quickly e\n",
      "   8190.80 | Supplier#000002079        | INDONESIA                 |     19577 | Manufacturer#1            | 2oUXSqxj,oPyDvoEPcgrBKinWFqgWxBa5kglvvo  | 19-917-742-4588 | ar packages affix furiously regu\n",
      "   8183.66 | Supplier#000000412        | JAPAN                     |    147897 | Manufacturer#3            | S2onAA,jGtQ3qfpN                         | 22-351-499-2131 |  the packages! quickly even warhorses haggle slyly along the final, expre\n",
      "   8167.14 | Supplier#000004424        | JAPAN                     |    176872 | Manufacturer#1            | ZcvRtr 3XfSbgd dsnlk2YG                  | 22-350-952-1893 |  deposits cajole slyly. quickly regular ideas across \n",
      "   8143.30 | Supplier#000004087        | JAPAN                     |     39080 | Manufacturer#2            | gT8xS3tEyvgX9P3ZeEuQ                     | 22-944-125-9013 | es wake slyly between the special instructions? carefully regular waters believe accord\n",
      "   8091.65 | Supplier#000000106        | VIETNAM                   |     90105 | Manufacturer#5            | 50EV3vyfAsWJAjTbT4qwU                    | 31-810-990-4600 | eas affix carefully fluffily silent packages. regular deposits bo\n",
      "   8084.48 | Supplier#000004209        | INDIA                     |    109188 | Manufacturer#4            | HlxV6Iw49NHEA,GNT                        | 18-848-514-9363 | . unusual requests sleep inside the daring patterns. final, permanent notornis poach fluf\n",
      "   8068.26 | Supplier#000000956        | CHINA                     |    170955 | Manufacturer#2            | dmmnYeCuIZB7b2pWTOQ9zrAdi6zxwIrj4aT446L  | 28-741-846-4826 | , regular accounts use against the furiously express ideas. furiously\n",
      "   8042.43 | Supplier#000000324        | CHINA                     |    117812 | Manufacturer#3            | QDsgOSozg jniYR2HzxofLZyk0qGdJe          | 28-637-452-5085 | ithely slyly special waters. \n",
      "   8039.06 | Supplier#000002904        | CHINA                     |     75382 | Manufacturer#5            | 3AVLyzSjCrHYuiLian1626bEfJgpw5J M        | 28-729-639-9863 | riously final deposits against the even, regular foxes sleep busily silent requests. final, bold \n",
      "   8028.58 | Supplier#000008050        | INDONESIA                 |    100519 | Manufacturer#2            | 9odvS2iZM 5gJq, cZC2J0hZet               | 19-573-848-7065 | regular somas. final deposits sleep amo\n",
      "   7992.60 | Supplier#000003951        | INDIA                     |    141436 | Manufacturer#4            | qajkuLHgP cRkdooPutjgKa8zxnYW            | 18-718-405-7747 | fter the quickly special theodolites. fluffily unusual pac\n",
      "(100 linhas)\n",
      "\n"
     ]
    }
   ],
   "source": [
    "# Mostrando o resultado da consulta\n",
    "!PGPASSWORD=test123 psql -h localhost -p 5432 -U tpch -d tpchdb -f /home/luis/Amazon/tp3_BD/notebooks/tpch-pgsql/query_root/perf_query_gen/2.sql"
   ]
  },
  {
   "cell_type": "markdown",
   "metadata": {},
   "source": [
    "#### Consulta 3.sql"
   ]
  },
  {
   "cell_type": "code",
   "execution_count": 18,
   "metadata": {},
   "outputs": [
    {
     "name": "stdout",
     "output_type": "stream",
     "text": [
      "-- using 1731880669 as a seed to the RNG\n",
      "\n",
      "\n",
      "select\n",
      "\tl_orderkey,\n",
      "\tsum(l_extendedprice * (1 - l_discount)) as revenue,\n",
      "\to_orderdate,\n",
      "\to_shippriority\n",
      "from\n",
      "\tcustomer,\n",
      "\torders,\n",
      "\tlineitem\n",
      "where\n",
      "\tc_mktsegment = 'BUILDING'\n",
      "\tand c_custkey = o_custkey\n",
      "\tand l_orderkey = o_orderkey\n",
      "\tand o_orderdate < date '1995-03-18'\n",
      "\tand l_shipdate > date '1995-03-18'\n",
      "group by\n",
      "\tl_orderkey,\n",
      "\to_orderdate,\n",
      "\to_shippriority\n",
      "order by\n",
      "\trevenue desc,\n",
      "\to_orderdate\n",
      "LIMIT 10;"
     ]
    }
   ],
   "source": [
    "!cat /home/luis/Amazon/tp3_BD/notebooks/tpch-pgsql/query_root/perf_query_gen/3.sql"
   ]
  },
  {
   "cell_type": "code",
   "execution_count": 19,
   "metadata": {},
   "outputs": [
    {
     "name": "stdout",
     "output_type": "stream",
     "text": [
      " l_orderkey |   revenue   | o_orderdate | o_shippriority \n",
      "------------+-------------+-------------+----------------\n",
      "    3459808 | 405838.6989 | 1995-03-04  |              0\n",
      "     492164 | 390324.0610 | 1995-02-19  |              0\n",
      "    1188320 | 384537.9359 | 1995-03-09  |              0\n",
      "    1368674 | 379739.9997 | 1995-03-16  |              0\n",
      "    2435712 | 378673.0558 | 1995-02-26  |              0\n",
      "    4878020 | 378376.7952 | 1995-03-12  |              0\n",
      "    1163712 | 377409.2753 | 1995-03-15  |              0\n",
      "    5521732 | 375153.9215 | 1995-03-13  |              0\n",
      "    2628192 | 373133.3094 | 1995-02-22  |              0\n",
      "     993600 | 371407.4595 | 1995-03-05  |              0\n",
      "(10 linhas)\n",
      "\n"
     ]
    }
   ],
   "source": [
    "\n",
    "!PGPASSWORD=test123 psql -h localhost -p 5432 -U tpch -d tpchdb -f /home/luis/Amazon/tp3_BD/notebooks/tpch-pgsql/query_root/perf_query_gen/3.sql"
   ]
  },
  {
   "cell_type": "markdown",
   "metadata": {},
   "source": [
    "#### Consulta 4.sql"
   ]
  },
  {
   "cell_type": "code",
   "execution_count": 20,
   "metadata": {},
   "outputs": [
    {
     "name": "stdout",
     "output_type": "stream",
     "text": [
      "-- using 1731880669 as a seed to the RNG\n",
      "\n",
      "\n",
      "select\n",
      "\to_orderpriority,\n",
      "\tcount(*) as order_count\n",
      "from\n",
      "\torders\n",
      "where\n",
      "\to_orderdate >= date '1995-09-01'\n",
      "\tand o_orderdate < date '1995-09-01' + interval '3' month\n",
      "\tand exists (\n",
      "\t\tselect\n",
      "\t\t\t*\n",
      "\t\tfrom\n",
      "\t\t\tlineitem\n",
      "\t\twhere\n",
      "\t\t\tl_orderkey = o_orderkey\n",
      "\t\t\tand l_commitdate < l_receiptdate\n",
      "\t)\n",
      "group by\n",
      "\to_orderpriority\n",
      "order by\n",
      "\to_orderpriority\n",
      "LIMIT 1;\n"
     ]
    }
   ],
   "source": [
    "!cat /home/luis/Amazon/tp3_BD/notebooks/tpch-pgsql/query_root/perf_query_gen/4.sql"
   ]
  },
  {
   "cell_type": "code",
   "execution_count": 21,
   "metadata": {},
   "outputs": [
    {
     "name": "stdout",
     "output_type": "stream",
     "text": [
      " o_orderpriority | order_count \n",
      "-----------------+-------------\n",
      " 1-URGENT        |       10379\n",
      "(1 linha)\n",
      "\n"
     ]
    }
   ],
   "source": [
    "!PGPASSWORD=test123 psql -h localhost -p 5432 -U tpch -d tpchdb -f /home/luis/Amazon/tp3_BD/notebooks/tpch-pgsql/query_root/perf_query_gen/4.sql"
   ]
  },
  {
   "cell_type": "markdown",
   "metadata": {},
   "source": [
    "#### Consulta 5.sql"
   ]
  },
  {
   "cell_type": "code",
   "execution_count": 22,
   "metadata": {},
   "outputs": [
    {
     "name": "stdout",
     "output_type": "stream",
     "text": [
      "-- using 1731880669 as a seed to the RNG\n",
      "\n",
      "\n",
      "select\n",
      "\tn_name,\n",
      "\tsum(l_extendedprice * (1 - l_discount)) as revenue\n",
      "from\n",
      "\tcustomer,\n",
      "\torders,\n",
      "\tlineitem,\n",
      "\tsupplier,\n",
      "\tnation,\n",
      "\tregion\n",
      "where\n",
      "\tc_custkey = o_custkey\n",
      "\tand l_orderkey = o_orderkey\n",
      "\tand l_suppkey = s_suppkey\n",
      "\tand c_nationkey = s_nationkey\n",
      "\tand s_nationkey = n_nationkey\n",
      "\tand n_regionkey = r_regionkey\n",
      "\tand r_name = 'AFRICA'\n",
      "\tand o_orderdate >= date '1995-01-01'\n",
      "\tand o_orderdate < date '1995-01-01' + interval '1' year\n",
      "group by\n",
      "\tn_name\n",
      "order by\n",
      "\trevenue desc\n",
      "LIMIT 1;\n"
     ]
    }
   ],
   "source": [
    "!cat /home/luis/Amazon/tp3_BD/notebooks/tpch-pgsql/query_root/perf_query_gen/5.sql"
   ]
  },
  {
   "cell_type": "code",
   "execution_count": 23,
   "metadata": {},
   "outputs": [
    {
     "name": "stdout",
     "output_type": "stream",
     "text": [
      "          n_name           |    revenue    \n",
      "---------------------------+---------------\n",
      " ALGERIA                   | 55934306.6140\n",
      "(1 linha)\n",
      "\n"
     ]
    }
   ],
   "source": [
    "!PGPASSWORD=test123 psql -h localhost -p 5432 -U tpch -d tpchdb -f /home/luis/Amazon/tp3_BD/notebooks/tpch-pgsql/query_root/perf_query_gen/5.sql"
   ]
  },
  {
   "cell_type": "markdown",
   "metadata": {},
   "source": [
    "#### Consulta 6.sql"
   ]
  },
  {
   "cell_type": "code",
   "execution_count": 24,
   "metadata": {},
   "outputs": [
    {
     "name": "stdout",
     "output_type": "stream",
     "text": [
      "-- using 1731880669 as a seed to the RNG\n",
      "\n",
      "\n",
      "select\n",
      "\tsum(l_extendedprice * l_discount) as revenue\n",
      "from\n",
      "\tlineitem\n",
      "where\n",
      "\tl_shipdate >= date '1995-01-01'\n",
      "\tand l_shipdate < date '1995-01-01' + interval '1' year\n",
      "\tand l_discount between 0.02 - 0.01 and 0.02 + 0.01\n",
      "\tand l_quantity < 25\n",
      "LIMIT 1;\n"
     ]
    }
   ],
   "source": [
    "!cat /home/luis/Amazon/tp3_BD/notebooks/tpch-pgsql/query_root/perf_query_gen/6.sql"
   ]
  },
  {
   "cell_type": "code",
   "execution_count": 25,
   "metadata": {},
   "outputs": [
    {
     "name": "stdout",
     "output_type": "stream",
     "text": [
      "    revenue    \n",
      "---------------\n",
      " 44871575.1799\n",
      "(1 linha)\n",
      "\n"
     ]
    }
   ],
   "source": [
    "\n",
    "!PGPASSWORD=test123 psql -h localhost -p 5432 -U tpch -d tpchdb -f /home/luis/Amazon/tp3_BD/notebooks/tpch-pgsql/query_root/perf_query_gen/6.sql"
   ]
  },
  {
   "cell_type": "markdown",
   "metadata": {},
   "source": [
    "#### Consulta 7.sql"
   ]
  },
  {
   "cell_type": "code",
   "execution_count": 26,
   "metadata": {},
   "outputs": [
    {
     "name": "stdout",
     "output_type": "stream",
     "text": [
      "-- using 1731880669 as a seed to the RNG\n",
      "\n",
      "\n",
      "select\n",
      "\tsupp_nation,\n",
      "\tcust_nation,\n",
      "\tl_year,\n",
      "\tsum(volume) as revenue\n",
      "from\n",
      "\t(\n",
      "\t\tselect\n",
      "\t\t\tn1.n_name as supp_nation,\n",
      "\t\t\tn2.n_name as cust_nation,\n",
      "\t\t\textract(year from l_shipdate) as l_year,\n",
      "\t\t\tl_extendedprice * (1 - l_discount) as volume\n",
      "\t\tfrom\n",
      "\t\t\tsupplier,\n",
      "\t\t\tlineitem,\n",
      "\t\t\torders,\n",
      "\t\t\tcustomer,\n",
      "\t\t\tnation n1,\n",
      "\t\t\tnation n2\n",
      "\t\twhere\n",
      "\t\t\ts_suppkey = l_suppkey\n",
      "\t\t\tand o_orderkey = l_orderkey\n",
      "\t\t\tand c_custkey = o_custkey\n",
      "\t\t\tand s_nationkey = n1.n_nationkey\n",
      "\t\t\tand c_nationkey = n2.n_nationkey\n",
      "\t\t\tand (\n",
      "\t\t\t\t(n1.n_name = 'ALGERIA' and n2.n_name = 'ROMANIA')\n",
      "\t\t\t\tor (n1.n_name = 'ROMANIA' and n2.n_name = 'ALGERIA')\n",
      "\t\t\t)\n",
      "\t\t\tand l_shipdate between date '1995-01-01' and date '1996-12-31'\n",
      "\t) as shipping\n",
      "group by\n",
      "\tsupp_nation,\n",
      "\tcust_nation,\n",
      "\tl_year\n",
      "order by\n",
      "\tsupp_nation,\n",
      "\tcust_nation,\n",
      "\tl_year\n",
      "LIMIT 1;"
     ]
    }
   ],
   "source": [
    "!cat /home/luis/Amazon/tp3_BD/notebooks/tpch-pgsql/query_root/perf_query_gen/7.sql"
   ]
  },
  {
   "cell_type": "code",
   "execution_count": 27,
   "metadata": {},
   "outputs": [
    {
     "name": "stdout",
     "output_type": "stream",
     "text": [
      "        supp_nation        |        cust_nation        | l_year |    revenue    \n",
      "---------------------------+---------------------------+--------+---------------\n",
      " ALGERIA                   | ROMANIA                   |   1995 | 56624614.5272\n",
      "(1 linha)\n",
      "\n"
     ]
    }
   ],
   "source": [
    "\n",
    "!PGPASSWORD=test123 psql -h localhost -p 5432 -U tpch -d tpchdb -f /home/luis/Amazon/tp3_BD/notebooks/tpch-pgsql/query_root/perf_query_gen/7.sql"
   ]
  },
  {
   "cell_type": "markdown",
   "metadata": {},
   "source": [
    "#### Consulta 8.sql"
   ]
  },
  {
   "cell_type": "code",
   "execution_count": 28,
   "metadata": {},
   "outputs": [
    {
     "name": "stdout",
     "output_type": "stream",
     "text": [
      "-- using 1731880669 as a seed to the RNG\n",
      "\n",
      "\n",
      "select\n",
      "\to_year,\n",
      "\tsum(case\n",
      "\t\twhen nation = 'ROMANIA' then volume\n",
      "\t\telse 0\n",
      "\tend) / sum(volume) as mkt_share\n",
      "from\n",
      "\t(\n",
      "\t\tselect\n",
      "\t\t\textract(year from o_orderdate) as o_year,\n",
      "\t\t\tl_extendedprice * (1 - l_discount) as volume,\n",
      "\t\t\tn2.n_name as nation\n",
      "\t\tfrom\n",
      "\t\t\tpart,\n",
      "\t\t\tsupplier,\n",
      "\t\t\tlineitem,\n",
      "\t\t\torders,\n",
      "\t\t\tcustomer,\n",
      "\t\t\tnation n1,\n",
      "\t\t\tnation n2,\n",
      "\t\t\tregion\n",
      "\t\twhere\n",
      "\t\t\tp_partkey = l_partkey\n",
      "\t\t\tand s_suppkey = l_suppkey\n",
      "\t\t\tand l_orderkey = o_orderkey\n",
      "\t\t\tand o_custkey = c_custkey\n",
      "\t\t\tand c_nationkey = n1.n_nationkey\n",
      "\t\t\tand n1.n_regionkey = r_regionkey\n",
      "\t\t\tand r_name = 'EUROPE'\n",
      "\t\t\tand s_nationkey = n2.n_nationkey\n",
      "\t\t\tand o_orderdate between date '1995-01-01' and date '1996-12-31'\n",
      "\t\t\tand p_type = 'PROMO PLATED COPPER'\n",
      "\t) as all_nations\n",
      "group by\n",
      "\to_year\n",
      "order by\n",
      "\to_year\n",
      "LIMIT 1;"
     ]
    }
   ],
   "source": [
    "!cat /home/luis/Amazon/tp3_BD/notebooks/tpch-pgsql/query_root/perf_query_gen/8.sql"
   ]
  },
  {
   "cell_type": "code",
   "execution_count": 29,
   "metadata": {},
   "outputs": [
    {
     "name": "stdout",
     "output_type": "stream",
     "text": [
      " o_year |       mkt_share        \n",
      "--------+------------------------\n",
      "   1995 | 0.03991528049594334785\n",
      "(1 linha)\n",
      "\n"
     ]
    }
   ],
   "source": [
    "!PGPASSWORD=test123 psql -h localhost -p 5432 -U tpch -d tpchdb -f /home/luis/Amazon/tp3_BD/notebooks/tpch-pgsql/query_root/perf_query_gen/8.sql"
   ]
  },
  {
   "cell_type": "markdown",
   "metadata": {},
   "source": [
    "#### Consulta 9.sql"
   ]
  },
  {
   "cell_type": "code",
   "execution_count": 30,
   "metadata": {},
   "outputs": [
    {
     "name": "stdout",
     "output_type": "stream",
     "text": [
      "-- using 1731880669 as a seed to the RNG\n",
      "\n",
      "\n",
      "select\n",
      "\tnation,\n",
      "\to_year,\n",
      "\tsum(amount) as sum_profit\n",
      "from\n",
      "\t(\n",
      "\t\tselect\n",
      "\t\t\tn_name as nation,\n",
      "\t\t\textract(year from o_orderdate) as o_year,\n",
      "\t\t\tl_extendedprice * (1 - l_discount) - ps_supplycost * l_quantity as amount\n",
      "\t\tfrom\n",
      "\t\t\tpart,\n",
      "\t\t\tsupplier,\n",
      "\t\t\tlineitem,\n",
      "\t\t\tpartsupp,\n",
      "\t\t\torders,\n",
      "\t\t\tnation\n",
      "\t\twhere\n",
      "\t\t\ts_suppkey = l_suppkey\n",
      "\t\t\tand ps_suppkey = l_suppkey\n",
      "\t\t\tand ps_partkey = l_partkey\n",
      "\t\t\tand p_partkey = l_partkey\n",
      "\t\t\tand o_orderkey = l_orderkey\n",
      "\t\t\tand s_nationkey = n_nationkey\n",
      "\t\t\tand p_name like '%thistle%'\n",
      "\t) as profit\n",
      "group by\n",
      "\tnation,\n",
      "\to_year\n",
      "order by\n",
      "\tnation,\n",
      "\to_year desc\n",
      "LIMIT 1;"
     ]
    }
   ],
   "source": [
    "!cat /home/luis/Amazon/tp3_BD/notebooks/tpch-pgsql/query_root/perf_query_gen/9.sql"
   ]
  },
  {
   "cell_type": "code",
   "execution_count": 31,
   "metadata": {},
   "outputs": [
    {
     "name": "stdout",
     "output_type": "stream",
     "text": [
      "          nation           | o_year |  sum_profit   \n",
      "---------------------------+--------+---------------\n",
      " ALGERIA                   |   1998 | 31407175.2191\n",
      "(1 linha)\n",
      "\n"
     ]
    }
   ],
   "source": [
    "\n",
    "!PGPASSWORD=test123 psql -h localhost -p 5432 -U tpch -d tpchdb -f /home/luis/Amazon/tp3_BD/notebooks/tpch-pgsql/query_root/perf_query_gen/9.sql"
   ]
  },
  {
   "cell_type": "markdown",
   "metadata": {},
   "source": [
    "#### Consulta 10.sql"
   ]
  },
  {
   "cell_type": "code",
   "execution_count": 32,
   "metadata": {},
   "outputs": [
    {
     "name": "stdout",
     "output_type": "stream",
     "text": [
      "-- using 1731880669 as a seed to the RNG\n",
      "\n",
      "\n",
      "select\n",
      "\tc_custkey,\n",
      "\tc_name,\n",
      "\tsum(l_extendedprice * (1 - l_discount)) as revenue,\n",
      "\tc_acctbal,\n",
      "\tn_name,\n",
      "\tc_address,\n",
      "\tc_phone,\n",
      "\tc_comment\n",
      "from\n",
      "\tcustomer,\n",
      "\torders,\n",
      "\tlineitem,\n",
      "\tnation\n",
      "where\n",
      "\tc_custkey = o_custkey\n",
      "\tand l_orderkey = o_orderkey\n",
      "\tand o_orderdate >= date '1994-02-01'\n",
      "\tand o_orderdate < date '1994-02-01' + interval '3' month\n",
      "\tand l_returnflag = 'R'\n",
      "\tand c_nationkey = n_nationkey\n",
      "group by\n",
      "\tc_custkey,\n",
      "\tc_name,\n",
      "\tc_acctbal,\n",
      "\tc_phone,\n",
      "\tn_name,\n",
      "\tc_address,\n",
      "\tc_comment\n",
      "order by\n",
      "\trevenue desc\n",
      "LIMIT 20;"
     ]
    }
   ],
   "source": [
    "!cat /home/luis/Amazon/tp3_BD/notebooks/tpch-pgsql/query_root/perf_query_gen/10.sql"
   ]
  },
  {
   "cell_type": "code",
   "execution_count": 33,
   "metadata": {},
   "outputs": [
    {
     "name": "stdout",
     "output_type": "stream",
     "text": [
      " c_custkey |       c_name       |   revenue   | c_acctbal |          n_name           |              c_address               |     c_phone     |                                                      c_comment                                                       \n",
      "-----------+--------------------+-------------+-----------+---------------------------+--------------------------------------+-----------------+----------------------------------------------------------------------------------------------------------------------\n",
      "    103780 | Customer#000103780 | 682401.9358 |   7809.66 | ETHIOPIA                  | qmCa2H3EzMUR4O65VB0fzisED8           | 15-355-745-3509 |  serve quickly across the even ideas. ironic ideas poach furiously above the carefully pending the\n",
      "    144526 | Customer#000144526 | 680209.7103 |   1031.97 | KENYA                     | ORUvZI4ziHHpATV1 VAxf47RGwiBUeuE0RSg | 24-447-657-1591 | e along the permanent, express dolphins. deposits affix furiously blithely express instructions. quickly \n",
      "     54826 | Customer#000054826 | 668052.7708 |   1018.83 | CHINA                     | 0qQN5BZXBDTUmndXQP,LO00e9ptdAWT3vMD  | 28-849-358-2535 | riously above the final packages. pinto beans wake slyly around the blithely special deposits\n",
      "     53026 | Customer#000053026 | 658612.3023 |   6626.67 | KENYA                     | 8csvbatNzIZ34nhOGFG,8qhm aNyQ        | 24-657-445-1672 | nusual excuses despite the furiously ironic deposits nag ironic packages. quickly\n",
      "     86629 | Customer#000086629 | 654557.0038 |   3714.27 | BRAZIL                    | vVKUYjrAl85Avns                      | 12-789-964-5639 | jole realms. slyly permanent pinto beans haggle carefully. carefully ent\n",
      "     18493 | Customer#000018493 | 642821.7621 |   -805.58 | CANADA                    | stNAdEXeBZ7LmvF9iOf                  | 13-765-615-6286 | as. furiously silent courts cajole slyly. evenly express dependencies affix. requests within the slyly ironic dolphi\n",
      "      6403 | Customer#000006403 | 640529.1986 |   9717.24 | UNITED STATES             | 9eX1E4GyIXptoHrL5db b7wqVYaUB55u     | 34-376-305-4671 | ly unusual accounts cajole slyly even platelets. carefully even package\n",
      "     74638 | Customer#000074638 | 620042.7691 |   -444.84 | INDIA                     | BKaM5HHmXN2XLH7JYyCXOLWeQH           | 18-422-359-3587 | oost slyly slyly final deposits\n",
      "     57976 | Customer#000057976 | 609738.3193 |   4165.79 | PERU                      | 1SD8y3C4yaQjBDUgRw kn73J0U           | 27-575-438-1113 | equests wake carefully after the regular pains\n",
      "     80488 | Customer#000080488 | 609237.9659 |     87.48 | MOROCCO                   | wHhF1C7Wc59q                         | 25-682-349-5748 |  regular asymptotes. slyly express foxes thrash furiously. furiously regular asymptotes poach s\n",
      "     35194 | Customer#000035194 | 606639.3643 |   7558.44 | RUSSIA                    | cWUgcby rGxc9nlljN                   | 32-839-374-1719 | ual instructions are. ironic packages cajole regular, bold asymptotes. carefully regular accounts bo\n",
      "     80191 | Customer#000080191 | 604740.0350 |   5646.87 | CANADA                    | zzdoxdVJftD QCe5vzA,VlP9vFGxgbpRdYwz | 13-279-318-1822 | oze according to the slyly quick deposits. silent, ironic pinto bean\n",
      "    108556 | Customer#000108556 | 600884.1808 |   -782.10 | JORDAN                    | fbqJ6mnTr5YmRJsQ 45jRVvP             | 23-701-569-8884 | g attainments. unusual theodolites nag slyly; express instructions haggle ironic theodolites. slyly daring \n",
      "     14497 | Customer#000014497 | 599160.5445 |   6236.16 | UNITED STATES             | PaRzyjxgBORClX                       | 34-734-123-8911 |  above the furiously special platelets. carefully ironic pla\n",
      "     58228 | Customer#000058228 | 593536.4537 |   1768.14 | VIETNAM                   | ZWsPi6V6rcRj0Oy0eqm0rvg,X,           | 31-918-901-9506 | s cajole silent pinto beans. even dependencies accordi\n",
      "     10810 | Customer#000010810 | 583870.1571 |   1339.69 | ROMANIA                   | M05U5m98jgzec0fP ZaWv6OR             | 29-860-701-3330 | press pinto beans doze. regular pin\n",
      "     61564 | Customer#000061564 | 583295.1108 |   2466.80 | ARGENTINA                 |  ASxe9DAcwgifI94QY87OTS 3Ppwg8lPoIB  | 11-750-499-7126 | ly ironic accounts affix alongside of the packages. express dolphins sleep. regular, final packages ca\n",
      "    125932 | Customer#000125932 | 579417.1254 |   7186.28 | INDONESIA                 | OE5bamuvUASIoTsuZMyrwIaNa1Z          | 19-349-165-9619 | osits. slyly final requests are furiously against the braids. blithely even theodolites are.\n",
      "     90232 | Customer#000090232 | 567462.0482 |   -758.21 | CHINA                     | VDxV1ZnWnLKViErLZVBU9yPas,vLEtDfs,   | 28-439-761-1846 | eans. blithely bold instructions alongside of the slyly \n",
      "     76528 | Customer#000076528 | 567238.2713 |   7924.08 | KENYA                     | eIWG846uc9Ig6OEAD9                   | 24-182-139-4774 | . dogged warhorses are across \n",
      "(20 linhas)\n",
      "\n"
     ]
    }
   ],
   "source": [
    "\n",
    "!PGPASSWORD=test123 psql -h localhost -p 5432 -U tpch -d tpchdb -f /home/luis/Amazon/tp3_BD/notebooks/tpch-pgsql/query_root/perf_query_gen/10.sql"
   ]
  },
  {
   "cell_type": "markdown",
   "metadata": {},
   "source": [
    "#### Consulta 11.sql"
   ]
  },
  {
   "cell_type": "code",
   "execution_count": 34,
   "metadata": {},
   "outputs": [
    {
     "name": "stdout",
     "output_type": "stream",
     "text": [
      "-- using 1731880669 as a seed to the RNG\n",
      "\n",
      "\n",
      "select\n",
      "\tps_partkey,\n",
      "\tsum(ps_supplycost * ps_availqty) as value\n",
      "from\n",
      "\tpartsupp,\n",
      "\tsupplier,\n",
      "\tnation\n",
      "where\n",
      "\tps_suppkey = s_suppkey\n",
      "\tand s_nationkey = n_nationkey\n",
      "\tand n_name = 'UNITED KINGDOM'\n",
      "group by\n",
      "\tps_partkey having\n",
      "\t\tsum(ps_supplycost * ps_availqty) > (\n",
      "\t\t\tselect\n",
      "\t\t\t\tsum(ps_supplycost * ps_availqty) * 0.0001000000\n",
      "\t\t\tfrom\n",
      "\t\t\t\tpartsupp,\n",
      "\t\t\t\tsupplier,\n",
      "\t\t\t\tnation\n",
      "\t\t\twhere\n",
      "\t\t\t\tps_suppkey = s_suppkey\n",
      "\t\t\t\tand s_nationkey = n_nationkey\n",
      "\t\t\t\tand n_name = 'UNITED KINGDOM'\n",
      "\t\t)\n",
      "order by\n",
      "\tvalue desc\n",
      "LIMIT 1;"
     ]
    }
   ],
   "source": [
    "!cat /home/luis/Amazon/tp3_BD/notebooks/tpch-pgsql/query_root/perf_query_gen/11.sql"
   ]
  },
  {
   "cell_type": "code",
   "execution_count": 35,
   "metadata": {},
   "outputs": [
    {
     "name": "stdout",
     "output_type": "stream",
     "text": [
      " ps_partkey |    value    \n",
      "------------+-------------\n",
      "     121139 | 17389780.68\n",
      "(1 linha)\n",
      "\n"
     ]
    }
   ],
   "source": [
    "\n",
    "!PGPASSWORD=test123 psql -h localhost -p 5432 -U tpch -d tpchdb -f /home/luis/Amazon/tp3_BD/notebooks/tpch-pgsql/query_root/perf_query_gen/11.sql"
   ]
  },
  {
   "cell_type": "markdown",
   "metadata": {},
   "source": [
    "#### Consulta 12.sql"
   ]
  },
  {
   "cell_type": "code",
   "execution_count": 36,
   "metadata": {},
   "outputs": [
    {
     "name": "stdout",
     "output_type": "stream",
     "text": [
      "-- using 1731880669 as a seed to the RNG\n",
      "\n",
      "\n",
      "select\n",
      "\tl_shipmode,\n",
      "\tsum(case\n",
      "\t\twhen o_orderpriority = '1-URGENT'\n",
      "\t\t\tor o_orderpriority = '2-HIGH'\n",
      "\t\t\tthen 1\n",
      "\t\telse 0\n",
      "\tend) as high_line_count,\n",
      "\tsum(case\n",
      "\t\twhen o_orderpriority <> '1-URGENT'\n",
      "\t\t\tand o_orderpriority <> '2-HIGH'\n",
      "\t\t\tthen 1\n",
      "\t\telse 0\n",
      "\tend) as low_line_count\n",
      "from\n",
      "\torders,\n",
      "\tlineitem\n",
      "where\n",
      "\to_orderkey = l_orderkey\n",
      "\tand l_shipmode in ('TRUCK', 'SHIP')\n",
      "\tand l_commitdate < l_receiptdate\n",
      "\tand l_shipdate < l_commitdate\n",
      "\tand l_receiptdate >= date '1994-01-01'\n",
      "\tand l_receiptdate < date '1994-01-01' + interval '1' year\n",
      "group by\n",
      "\tl_shipmode\n",
      "order by\n",
      "\tl_shipmode\n",
      "LIMIT 1;"
     ]
    }
   ],
   "source": [
    "!cat /home/luis/Amazon/tp3_BD/notebooks/tpch-pgsql/query_root/perf_query_gen/12.sql"
   ]
  },
  {
   "cell_type": "code",
   "execution_count": 37,
   "metadata": {},
   "outputs": [
    {
     "name": "stdout",
     "output_type": "stream",
     "text": [
      " l_shipmode | high_line_count | low_line_count \n",
      "------------+-----------------+----------------\n",
      " SHIP       |            6200 |           9262\n",
      "(1 linha)\n",
      "\n"
     ]
    }
   ],
   "source": [
    "\n",
    "!PGPASSWORD=test123 psql -h localhost -p 5432 -U tpch -d tpchdb -f /home/luis/Amazon/tp3_BD/notebooks/tpch-pgsql/query_root/perf_query_gen/12.sql"
   ]
  },
  {
   "cell_type": "markdown",
   "metadata": {},
   "source": [
    "#### Consulta 13.sql"
   ]
  },
  {
   "cell_type": "code",
   "execution_count": 38,
   "metadata": {},
   "outputs": [
    {
     "name": "stdout",
     "output_type": "stream",
     "text": [
      "-- using 1731880669 as a seed to the RNG\n",
      "\n",
      "\n",
      "select\n",
      "\tc_count,\n",
      "\tcount(*) as custdist\n",
      "from\n",
      "\t(\n",
      "\t\tselect\n",
      "\t\t\tc_custkey,\n",
      "\t\t\tcount(o_orderkey)\n",
      "\t\tfrom\n",
      "\t\t\tcustomer left outer join orders on\n",
      "\t\t\t\tc_custkey = o_custkey\n",
      "\t\t\t\tand o_comment not like '%express%requests%'\n",
      "\t\tgroup by\n",
      "\t\t\tc_custkey\n",
      "\t) as c_orders (c_custkey, c_count)\n",
      "group by\n",
      "\tc_count\n",
      "order by\n",
      "\tcustdist desc,\n",
      "\tc_count desc\n",
      "LIMIT 1;"
     ]
    }
   ],
   "source": [
    "!cat /home/luis/Amazon/tp3_BD/notebooks/tpch-pgsql/query_root/perf_query_gen/13.sql"
   ]
  },
  {
   "cell_type": "code",
   "execution_count": 39,
   "metadata": {},
   "outputs": [
    {
     "name": "stdout",
     "output_type": "stream",
     "text": [
      " c_count | custdist \n",
      "---------+----------\n",
      "       0 |    50004\n",
      "(1 linha)\n",
      "\n"
     ]
    }
   ],
   "source": [
    "\n",
    "!PGPASSWORD=test123 psql -h localhost -p 5432 -U tpch -d tpchdb -f /home/luis/Amazon/tp3_BD/notebooks/tpch-pgsql/query_root/perf_query_gen/13.sql"
   ]
  },
  {
   "cell_type": "markdown",
   "metadata": {},
   "source": [
    "#### Consulta 14.sql"
   ]
  },
  {
   "cell_type": "code",
   "execution_count": 40,
   "metadata": {},
   "outputs": [
    {
     "name": "stdout",
     "output_type": "stream",
     "text": [
      "-- using 1731880669 as a seed to the RNG\n",
      "\n",
      "\n",
      "select\n",
      "\t100.00 * sum(case\n",
      "\t\twhen p_type like 'PROMO%'\n",
      "\t\t\tthen l_extendedprice * (1 - l_discount)\n",
      "\t\telse 0\n",
      "\tend) / sum(l_extendedprice * (1 - l_discount)) as promo_revenue\n",
      "from\n",
      "\tlineitem,\n",
      "\tpart\n",
      "where\n",
      "\tl_partkey = p_partkey\n",
      "\tand l_shipdate >= date '1994-05-01'\n",
      "\tand l_shipdate < date '1994-05-01' + interval '1' month\n",
      "LIMIT 1;"
     ]
    }
   ],
   "source": [
    "!cat /home/luis/Amazon/tp3_BD/notebooks/tpch-pgsql/query_root/perf_query_gen/14.sql"
   ]
  },
  {
   "cell_type": "code",
   "execution_count": 41,
   "metadata": {},
   "outputs": [
    {
     "name": "stdout",
     "output_type": "stream",
     "text": [
      "    promo_revenue    \n",
      "---------------------\n",
      " 16.5107260405095025\n",
      "(1 linha)\n",
      "\n"
     ]
    }
   ],
   "source": [
    "\n",
    "!PGPASSWORD=test123 psql -h localhost -p 5432 -U tpch -d tpchdb -f /home/luis/Amazon/tp3_BD/notebooks/tpch-pgsql/query_root/perf_query_gen/14.sql"
   ]
  },
  {
   "cell_type": "markdown",
   "metadata": {},
   "source": [
    "#### Consulta 15.sql"
   ]
  },
  {
   "cell_type": "code",
   "execution_count": 42,
   "metadata": {},
   "outputs": [
    {
     "name": "stdout",
     "output_type": "stream",
     "text": [
      "-- using 1731880669 as a seed to the RNG\n",
      "\n",
      "create view revenue0 (supplier_no, total_revenue) as\n",
      "\tselect\n",
      "\t\tl_suppkey,\n",
      "\t\tsum(l_extendedprice * (1 - l_discount))\n",
      "\tfrom\n",
      "\t\tlineitem\n",
      "\twhere\n",
      "\t\tl_shipdate >= date '1993-12-01'\n",
      "\t\tand l_shipdate < date '1993-12-01' + interval '3' month\n",
      "\tgroup by\n",
      "\t\tl_suppkey;\n",
      "\n",
      "\n",
      "select\n",
      "\ts_suppkey,\n",
      "\ts_name,\n",
      "\ts_address,\n",
      "\ts_phone,\n",
      "\ttotal_revenue\n",
      "from\n",
      "\tsupplier,\n",
      "\trevenue0\n",
      "where\n",
      "\ts_suppkey = supplier_no\n",
      "\tand total_revenue = (\n",
      "\t\tselect\n",
      "\t\t\tmax(total_revenue)\n",
      "\t\tfrom\n",
      "\t\t\trevenue0\n",
      "\t)\n",
      "order by\n",
      "\ts_suppkey\n",
      "LIMIT 1;\n",
      "\n",
      "drop view revenue0;"
     ]
    }
   ],
   "source": [
    "!cat /home/luis/Amazon/tp3_BD/notebooks/tpch-pgsql/query_root/perf_query_gen/15.sql"
   ]
  },
  {
   "cell_type": "code",
   "execution_count": 43,
   "metadata": {},
   "outputs": [
    {
     "name": "stdout",
     "output_type": "stream",
     "text": [
      "CREATE VIEW\n",
      " s_suppkey |          s_name           |                s_address                 |     s_phone     | total_revenue \n",
      "-----------+---------------------------+------------------------------------------+-----------------+---------------\n",
      "      5449 | Supplier#000005449        | fhc8lUuZdqWUujcVaWogowEq1WVL9Y8m1efwCl3G | 31-787-239-2170 |  1817907.7139\n",
      "(1 linha)\n",
      "\n",
      "DROP VIEW\n"
     ]
    }
   ],
   "source": [
    "!PGPASSWORD=test123 psql -h localhost -p 5432 -U tpch -d tpchdb -f /home/luis/Amazon/tp3_BD/notebooks/tpch-pgsql/query_root/perf_query_gen/15.sql"
   ]
  },
  {
   "cell_type": "markdown",
   "metadata": {},
   "source": [
    "#### Consulta 16.sql"
   ]
  },
  {
   "cell_type": "code",
   "execution_count": 44,
   "metadata": {},
   "outputs": [
    {
     "name": "stdout",
     "output_type": "stream",
     "text": [
      "-- using 1731880669 as a seed to the RNG\n",
      "\n",
      "\n",
      "select\n",
      "\tp_brand,\n",
      "\tp_type,\n",
      "\tp_size,\n",
      "\tcount(distinct ps_suppkey) as supplier_cnt\n",
      "from\n",
      "\tpartsupp,\n",
      "\tpart\n",
      "where\n",
      "\tp_partkey = ps_partkey\n",
      "\tand p_brand <> 'Brand#25'\n",
      "\tand p_type not like 'ECONOMY PLATED%'\n",
      "\tand p_size in (2, 38, 28, 16, 48, 24, 44, 30)\n",
      "\tand ps_suppkey not in (\n",
      "\t\tselect\n",
      "\t\t\ts_suppkey\n",
      "\t\tfrom\n",
      "\t\t\tsupplier\n",
      "\t\twhere\n",
      "\t\t\ts_comment like '%Customer%Complaints%'\n",
      "\t)\n",
      "group by\n",
      "\tp_brand,\n",
      "\tp_type,\n",
      "\tp_size\n",
      "order by\n",
      "\tsupplier_cnt desc,\n",
      "\tp_brand,\n",
      "\tp_type,\n",
      "\tp_size\n",
      "LIMIT 1;"
     ]
    }
   ],
   "source": [
    "!cat /home/luis/Amazon/tp3_BD/notebooks/tpch-pgsql/query_root/perf_query_gen/16.sql"
   ]
  },
  {
   "cell_type": "code",
   "execution_count": 45,
   "metadata": {},
   "outputs": [
    {
     "name": "stdout",
     "output_type": "stream",
     "text": [
      "  p_brand   |        p_type         | p_size | supplier_cnt \n",
      "------------+-----------------------+--------+--------------\n",
      " Brand#51   | ECONOMY BRUSHED STEEL |     38 |           32\n",
      "(1 linha)\n",
      "\n"
     ]
    }
   ],
   "source": [
    "!PGPASSWORD=test123 psql -h localhost -p 5432 -U tpch -d tpchdb -f /home/luis/Amazon/tp3_BD/notebooks/tpch-pgsql/query_root/perf_query_gen/16.sql"
   ]
  },
  {
   "cell_type": "markdown",
   "metadata": {},
   "source": [
    "#### Consulta 17.sql"
   ]
  },
  {
   "cell_type": "code",
   "execution_count": 46,
   "metadata": {},
   "outputs": [
    {
     "name": "stdout",
     "output_type": "stream",
     "text": [
      "-- using 1731880669 as a seed to the RNG\n",
      "\n",
      "\n",
      "select\n",
      "\tsum(l_extendedprice) / 7.0 as avg_yearly\n",
      "from\n",
      "\tlineitem,\n",
      "\tpart,\n",
      "\t(SELECT l_partkey AS agg_partkey, 0.2 * avg(l_quantity) AS avg_quantity FROM lineitem GROUP BY l_partkey) part_agg\n",
      "where\n",
      "\tp_partkey = l_partkey\n",
      "\tand agg_partkey = l_partkey\n",
      "\tand p_brand = 'Brand#54'\n",
      "\tand p_container = 'SM BOX'\n",
      "\tand l_quantity < avg_quantity\n",
      "LIMIT 1;\n"
     ]
    }
   ],
   "source": [
    "!cat /home/luis/Amazon/tp3_BD/notebooks/tpch-pgsql/query_root/perf_query_gen/17.sql"
   ]
  },
  {
   "cell_type": "code",
   "execution_count": 47,
   "metadata": {},
   "outputs": [
    {
     "name": "stdout",
     "output_type": "stream",
     "text": [
      "     avg_yearly      \n",
      "---------------------\n",
      " 312961.275714285714\n",
      "(1 linha)\n",
      "\n"
     ]
    }
   ],
   "source": [
    "!PGPASSWORD=test123 psql -h localhost -p 5432 -U tpch -d tpchdb -f /home/luis/Amazon/tp3_BD/notebooks/tpch-pgsql/query_root/perf_query_gen/17.sql"
   ]
  },
  {
   "cell_type": "markdown",
   "metadata": {},
   "source": [
    "#### Consulta 18.sql"
   ]
  },
  {
   "cell_type": "code",
   "execution_count": 48,
   "metadata": {},
   "outputs": [
    {
     "name": "stdout",
     "output_type": "stream",
     "text": [
      "-- using 1731880669 as a seed to the RNG\n",
      "\n",
      "\n",
      "select\n",
      "\tc_name,\n",
      "\tc_custkey,\n",
      "\to_orderkey,\n",
      "\to_orderdate,\n",
      "\to_totalprice,\n",
      "\tsum(l_quantity)\n",
      "from\n",
      "\tcustomer,\n",
      "\torders,\n",
      "\tlineitem\n",
      "where\n",
      "\to_orderkey in (\n",
      "\t\tselect\n",
      "\t\t\tl_orderkey\n",
      "\t\tfrom\n",
      "\t\t\tlineitem\n",
      "\t\tgroup by\n",
      "\t\t\tl_orderkey having\n",
      "\t\t\t\tsum(l_quantity) > 314\n",
      "\t)\n",
      "\tand c_custkey = o_custkey\n",
      "\tand o_orderkey = l_orderkey\n",
      "group by\n",
      "\tc_name,\n",
      "\tc_custkey,\n",
      "\to_orderkey,\n",
      "\to_orderdate,\n",
      "\to_totalprice\n",
      "order by\n",
      "\to_totalprice desc,\n",
      "\to_orderdate\n",
      "LIMIT 100;"
     ]
    }
   ],
   "source": [
    "!cat /home/luis/Amazon/tp3_BD/notebooks/tpch-pgsql/query_root/perf_query_gen/18.sql"
   ]
  },
  {
   "cell_type": "code",
   "execution_count": 49,
   "metadata": {},
   "outputs": [
    {
     "name": "stdout",
     "output_type": "stream",
     "text": [
      "       c_name       | c_custkey | o_orderkey | o_orderdate | o_totalprice | sum \n",
      "--------------------+-----------+------------+-------------+--------------+-----\n",
      " Customer#000128120 |    128120 |    4722021 | 1994-04-07  |    544089.09 | 323\n",
      " Customer#000144617 |    144617 |    3043270 | 1997-02-12  |    530604.44 | 317\n",
      " Customer#000066790 |     66790 |    2199712 | 1996-09-30  |    515531.82 | 327\n",
      " Customer#000015619 |     15619 |    3767271 | 1996-08-07  |    480083.96 | 318\n",
      " Customer#000147197 |    147197 |    1263015 | 1997-02-02  |    467149.67 | 320\n",
      " Customer#000117919 |    117919 |    2869152 | 1996-06-20  |    456815.92 | 317\n",
      " Customer#000126865 |    126865 |    4702759 | 1994-11-07  |    447606.65 | 320\n",
      " Customer#000036619 |     36619 |    4806726 | 1995-01-17  |    446704.09 | 328\n",
      " Customer#000119989 |    119989 |    1544643 | 1997-09-20  |    434568.25 | 320\n",
      "(9 linhas)\n",
      "\n"
     ]
    }
   ],
   "source": [
    "!PGPASSWORD=test123 psql -h localhost -p 5432 -U tpch -d tpchdb -f /home/luis/Amazon/tp3_BD/notebooks/tpch-pgsql/query_root/perf_query_gen/18.sql"
   ]
  },
  {
   "cell_type": "markdown",
   "metadata": {},
   "source": [
    "#### Consulta 19.sql"
   ]
  },
  {
   "cell_type": "code",
   "execution_count": 50,
   "metadata": {},
   "outputs": [
    {
     "name": "stdout",
     "output_type": "stream",
     "text": [
      "-- using 1731880669 as a seed to the RNG\n",
      "\n",
      "\n",
      "select\n",
      "\tsum(l_extendedprice* (1 - l_discount)) as revenue\n",
      "from\n",
      "\tlineitem,\n",
      "\tpart\n",
      "where\n",
      "\t(\n",
      "\t\tp_partkey = l_partkey\n",
      "\t\tand p_brand = 'Brand#14'\n",
      "\t\tand p_container in ('SM CASE', 'SM BOX', 'SM PACK', 'SM PKG')\n",
      "\t\tand l_quantity >= 9 and l_quantity <= 9 + 10\n",
      "\t\tand p_size between 1 and 5\n",
      "\t\tand l_shipmode in ('AIR', 'AIR REG')\n",
      "\t\tand l_shipinstruct = 'DELIVER IN PERSON'\n",
      "\t)\n",
      "\tor\n",
      "\t(\n",
      "\t\tp_partkey = l_partkey\n",
      "\t\tand p_brand = 'Brand#32'\n",
      "\t\tand p_container in ('MED BAG', 'MED BOX', 'MED PKG', 'MED PACK')\n",
      "\t\tand l_quantity >= 15 and l_quantity <= 15 + 10\n",
      "\t\tand p_size between 1 and 10\n",
      "\t\tand l_shipmode in ('AIR', 'AIR REG')\n",
      "\t\tand l_shipinstruct = 'DELIVER IN PERSON'\n",
      "\t)\n",
      "\tor\n",
      "\t(\n",
      "\t\tp_partkey = l_partkey\n",
      "\t\tand p_brand = 'Brand#53'\n",
      "\t\tand p_container in ('LG CASE', 'LG BOX', 'LG PACK', 'LG PKG')\n",
      "\t\tand l_quantity >= 29 and l_quantity <= 29 + 10\n",
      "\t\tand p_size between 1 and 15\n",
      "\t\tand l_shipmode in ('AIR', 'AIR REG')\n",
      "\t\tand l_shipinstruct = 'DELIVER IN PERSON'\n",
      "\t)\n",
      "LIMIT 1;"
     ]
    }
   ],
   "source": [
    "!cat /home/luis/Amazon/tp3_BD/notebooks/tpch-pgsql/query_root/perf_query_gen/19.sql"
   ]
  },
  {
   "cell_type": "code",
   "execution_count": 51,
   "metadata": {},
   "outputs": [
    {
     "name": "stdout",
     "output_type": "stream",
     "text": [
      "   revenue    \n",
      "--------------\n",
      " 4150918.5507\n",
      "(1 linha)\n",
      "\n"
     ]
    }
   ],
   "source": [
    "!PGPASSWORD=test123 psql -h localhost -p 5432 -U tpch -d tpchdb -f /home/luis/Amazon/tp3_BD/notebooks/tpch-pgsql/query_root/perf_query_gen/19.sql"
   ]
  },
  {
   "cell_type": "markdown",
   "metadata": {},
   "source": [
    "#### Consulta 20.sql"
   ]
  },
  {
   "cell_type": "code",
   "execution_count": 52,
   "metadata": {},
   "outputs": [
    {
     "name": "stdout",
     "output_type": "stream",
     "text": [
      "-- using 1731880669 as a seed to the RNG\n",
      "\n",
      "\n",
      "select\n",
      "\ts_name,\n",
      "\ts_address\n",
      "from\n",
      "\tsupplier,\n",
      "\tnation\n",
      "where\n",
      "\ts_suppkey in (\n",
      "\t\tselect\n",
      "\t\t\tps_suppkey\n",
      "\t\tfrom\n",
      "\t\t\tpartsupp,\n",
      "\t\t\t(\n",
      "\t\t\t\tselect\n",
      "\t\t\t\t\tl_partkey agg_partkey,\n",
      "\t\t\t\t\tl_suppkey agg_suppkey,\n",
      "\t\t\t\t\t0.5 * sum(l_quantity) AS agg_quantity\n",
      "\t\t\t\tfrom\n",
      "\t\t\t\t\tlineitem\n",
      "\t\t\t\twhere\n",
      "\t\t\t\t\tl_shipdate >= date '1995-01-01'\n",
      "\t\t\t\t\tand l_shipdate < date '1995-01-01' + interval '1' year\n",
      "\t\t\t\tgroup by\n",
      "\t\t\t\t\tl_partkey,\n",
      "\t\t\t\t\tl_suppkey\n",
      "\t\t\t) agg_lineitem\n",
      "\t\twhere\n",
      "\t\t\tagg_partkey = ps_partkey\n",
      "\t\t\tand agg_suppkey = ps_suppkey\n",
      "\t\t\tand ps_partkey in (\n",
      "\t\t\t\tselect\n",
      "\t\t\t\t\tp_partkey\n",
      "\t\t\t\tfrom\n",
      "\t\t\t\t\tpart\n",
      "\t\t\t\twhere\n",
      "\t\t\t\t\tp_name like 'purple%'\n",
      "\t\t\t)\n",
      "\t\t\tand ps_availqty > agg_quantity\n",
      "\t)\n",
      "\tand s_nationkey = n_nationkey\n",
      "\tand n_name = 'FRANCE'\n",
      "order by\n",
      "\ts_name\n",
      "LIMIT 1;\n"
     ]
    }
   ],
   "source": [
    "!cat /home/luis/Amazon/tp3_BD/notebooks/tpch-pgsql/query_root/perf_query_gen/20.sql"
   ]
  },
  {
   "cell_type": "code",
   "execution_count": 53,
   "metadata": {},
   "outputs": [
    {
     "name": "stdout",
     "output_type": "stream",
     "text": [
      "          s_name           |                s_address                 \n",
      "---------------------------+------------------------------------------\n",
      " Supplier#000000090        | bPE6Uhz1f2m3gwSGMrnRt,g,3gq37r5kxgphqss1\n",
      "(1 linha)\n",
      "\n"
     ]
    }
   ],
   "source": [
    "!PGPASSWORD=test123 psql -h localhost -p 5432 -U tpch -d tpchdb -f /home/luis/Amazon/tp3_BD/notebooks/tpch-pgsql/query_root/perf_query_gen/20.sql"
   ]
  },
  {
   "cell_type": "markdown",
   "metadata": {},
   "source": [
    "#### Consulta 21.sql"
   ]
  },
  {
   "cell_type": "code",
   "execution_count": 54,
   "metadata": {},
   "outputs": [
    {
     "name": "stdout",
     "output_type": "stream",
     "text": [
      "-- using 1731880669 as a seed to the RNG\n",
      "\n",
      "\n",
      "select\n",
      "\ts_name,\n",
      "\tcount(*) as numwait\n",
      "from\n",
      "\tsupplier,\n",
      "\tlineitem l1,\n",
      "\torders,\n",
      "\tnation\n",
      "where\n",
      "\ts_suppkey = l1.l_suppkey\n",
      "\tand o_orderkey = l1.l_orderkey\n",
      "\tand o_orderstatus = 'F'\n",
      "\tand l1.l_receiptdate > l1.l_commitdate\n",
      "\tand exists (\n",
      "\t\tselect\n",
      "\t\t\t*\n",
      "\t\tfrom\n",
      "\t\t\tlineitem l2\n",
      "\t\twhere\n",
      "\t\t\tl2.l_orderkey = l1.l_orderkey\n",
      "\t\t\tand l2.l_suppkey <> l1.l_suppkey\n",
      "\t)\n",
      "\tand not exists (\n",
      "\t\tselect\n",
      "\t\t\t*\n",
      "\t\tfrom\n",
      "\t\t\tlineitem l3\n",
      "\t\twhere\n",
      "\t\t\tl3.l_orderkey = l1.l_orderkey\n",
      "\t\t\tand l3.l_suppkey <> l1.l_suppkey\n",
      "\t\t\tand l3.l_receiptdate > l3.l_commitdate\n",
      "\t)\n",
      "\tand s_nationkey = n_nationkey\n",
      "\tand n_name = 'JORDAN'\n",
      "group by\n",
      "\ts_name\n",
      "order by\n",
      "\tnumwait desc,\n",
      "\ts_name\n",
      "LIMIT 100;"
     ]
    }
   ],
   "source": [
    "!cat /home/luis/Amazon/tp3_BD# Mostrando o resultado da consulta/notebooks/tpch-pgsql/query_root/perf_query_gen/21.sql"
   ]
  },
  {
   "cell_type": "code",
   "execution_count": 55,
   "metadata": {},
   "outputs": [
    {
     "name": "stdout",
     "output_type": "stream",
     "text": [
      "          s_name           | numwait \n",
      "---------------------------+---------\n",
      " Supplier#000001915        |      23\n",
      " Supplier#000006206        |      21\n",
      " Supplier#000009806        |      21\n",
      " Supplier#000005984        |      18\n",
      " Supplier#000008004        |      18\n",
      " Supplier#000000626        |      17\n",
      " Supplier#000001067        |      17\n",
      " Supplier#000001302        |      17\n",
      " Supplier#000006266        |      17\n",
      " Supplier#000004125        |      16\n",
      " Supplier#000008271        |      16\n",
      " Supplier#000000312        |      15\n",
      " Supplier#000000789        |      15\n",
      " Supplier#000002110        |      15\n",
      " Supplier#000002430        |      15\n",
      " Supplier#000002751        |      15\n",
      " Supplier#000004660        |      15\n",
      " Supplier#000005179        |      15\n",
      " Supplier#000005285        |      15\n",
      " Supplier#000005291        |      15\n",
      " Supplier#000006347        |      15\n",
      " Supplier#000008521        |      15\n",
      " Supplier#000000806        |      14\n",
      " Supplier#000001100        |      14\n",
      " Supplier#000001605        |      14\n",
      " Supplier#000002401        |      14\n",
      " Supplier#000003383        |      14\n",
      " Supplier#000004231        |      14\n",
      " Supplier#000004596        |      14\n",
      " Supplier#000005988        |      14\n",
      " Supplier#000006202        |      14\n",
      " Supplier#000006763        |      14\n",
      " Supplier#000006847        |      14\n",
      " Supplier#000009788        |      14\n",
      " Supplier#000009984        |      14\n",
      " Supplier#000000116        |      13\n",
      " Supplier#000000488        |      13\n",
      " Supplier#000000577        |      13\n",
      " Supplier#000000677        |      13\n",
      " Supplier#000001240        |      13\n",
      " Supplier#000002165        |      13\n",
      " Supplier#000002420        |      13\n",
      " Supplier#000002469        |      13\n",
      " Supplier#000002576        |      13\n",
      " Supplier#000002898        |      13\n",
      " Supplier#000004001        |      13\n",
      " Supplier#000004206        |      13\n",
      " Supplier#000004997        |      13\n",
      " Supplier#000005070        |      13\n",
      " Supplier#000006853        |      13\n",
      " Supplier#000006931        |      13\n",
      " Supplier#000007455        |      13\n",
      " Supplier#000007593        |      13\n",
      " Supplier#000008106        |      13\n",
      " Supplier#000008123        |      13\n",
      " Supplier#000008443        |      13\n",
      " Supplier#000008838        |      13\n",
      " Supplier#000009368        |      13\n",
      " Supplier#000009377        |      13\n",
      " Supplier#000000881        |      12\n",
      " Supplier#000000980        |      12\n",
      " Supplier#000001197        |      12\n",
      " Supplier#000001214        |      12\n",
      " Supplier#000001581        |      12\n",
      " Supplier#000001663        |      12\n",
      " Supplier#000001695        |      12\n",
      " Supplier#000001801        |      12\n",
      " Supplier#000002014        |      12\n",
      " Supplier#000002130        |      12\n",
      " Supplier#000002416        |      12\n",
      " Supplier#000002449        |      12\n",
      " Supplier#000002680        |      12\n",
      " Supplier#000003366        |      12\n",
      " Supplier#000003435        |      12\n",
      " Supplier#000004043        |      12\n",
      " Supplier#000004256        |      12\n",
      " Supplier#000004319        |      12\n",
      " Supplier#000004414        |      12\n",
      " Supplier#000004946        |      12\n",
      " Supplier#000005141        |      12\n",
      " Supplier#000005305        |      12\n",
      " Supplier#000005444        |      12\n",
      " Supplier#000005448        |      12\n",
      " Supplier#000005612        |      12\n",
      " Supplier#000006141        |      12\n",
      " Supplier#000006256        |      12\n",
      " Supplier#000006294        |      12\n",
      " Supplier#000006762        |      12\n",
      " Supplier#000006784        |      12\n",
      " Supplier#000007901        |      12\n",
      " Supplier#000008220        |      12\n",
      " Supplier#000009191        |      12\n",
      " Supplier#000009546        |      12\n",
      " Supplier#000009712        |      12\n",
      " Supplier#000000661        |      11\n",
      " Supplier#000000824        |      11\n",
      " Supplier#000001091        |      11\n",
      " Supplier#000001257        |      11\n",
      " Supplier#000001292        |      11\n",
      " Supplier#000001350        |      11\n",
      "(100 linhas)\n",
      "\n"
     ]
    }
   ],
   "source": [
    "!PGPASSWORD=test123 psql -h localhost -p 5432 -U tpch -d tpchdb -f /home/luis/Amazon/tp3_BD/notebooks/tpch-pgsql/query_root/perf_query_gen/21.sql"
   ]
  },
  {
   "cell_type": "markdown",
   "metadata": {},
   "source": [
    "#### Consulta 22.sql"
   ]
  },
  {
   "cell_type": "code",
   "execution_count": 56,
   "metadata": {},
   "outputs": [
    {
     "name": "stdout",
     "output_type": "stream",
     "text": [
      "-- using 1731880669 as a seed to the RNG\n",
      "\n",
      "\n",
      "select\n",
      "\tcntrycode,\n",
      "\tcount(*) as numcust,\n",
      "\tsum(c_acctbal) as totacctbal\n",
      "from\n",
      "\t(\n",
      "\t\tselect\n",
      "\t\t\tsubstring(c_phone from 1 for 2) as cntrycode,\n",
      "\t\t\tc_acctbal\n",
      "\t\tfrom\n",
      "\t\t\tcustomer\n",
      "\t\twhere\n",
      "\t\t\tsubstring(c_phone from 1 for 2) in\n",
      "\t\t\t\t('26', '43', '31', '41', '35', '42', '34')\n",
      "\t\t\tand c_acctbal > (\n",
      "\t\t\t\tselect\n",
      "\t\t\t\t\tavg(c_acctbal)\n",
      "\t\t\t\tfrom\n",
      "\t\t\t\t\tcustomer\n",
      "\t\t\t\twhere\n",
      "\t\t\t\t\tc_acctbal > 0.00\n",
      "\t\t\t\t\tand substring(c_phone from 1 for 2) in\n",
      "\t\t\t\t\t\t('26', '43', '31', '41', '35', '42', '34')\n",
      "\t\t\t)\n",
      "\t\t\tand not exists (\n",
      "\t\t\t\tselect\n",
      "\t\t\t\t\t*\n",
      "\t\t\t\tfrom\n",
      "\t\t\t\t\torders\n",
      "\t\t\t\twhere\n",
      "\t\t\t\t\to_custkey = c_custkey\n",
      "\t\t\t)\n",
      "\t) as custsale\n",
      "group by\n",
      "\tcntrycode\n",
      "order by\n",
      "\tcntrycode\n",
      "LIMIT 1;"
     ]
    }
   ],
   "source": [
    "!cat /home/luis/Amazon/tp3_BD/notebooks/tpch-pgsql/query_root/perf_query_gen/22.sql"
   ]
  },
  {
   "cell_type": "code",
   "execution_count": 57,
   "metadata": {},
   "outputs": [
    {
     "name": "stdout",
     "output_type": "stream",
     "text": [
      " cntrycode | numcust | totacctbal \n",
      "-----------+---------+------------\n",
      " 26        |     855 | 6374598.87\n",
      "(1 linha)\n",
      "\n"
     ]
    }
   ],
   "source": [
    "!PGPASSWORD=test123 psql -h localhost -p 5432 -U tpch -d tpchdb -f /home/luis/Amazon/tp3_BD/notebooks/tpch-pgsql/query_root/perf_query_gen/22.sql"
   ]
  },
  {
   "cell_type": "markdown",
   "metadata": {},
   "source": [
    "--------------------------------------------\n",
    "### Tarefa 4 – Identificação do Sistema\n",
    "Identifique o sistema que será usado para os experimentos, incluindo informações sobre o hardware e o Sistema Operacional utilizado.\n",
    "Sobre o tipo de processador, quantidade de memória RAM, tamanho do disco.\n",
    "Devem ser também apresentadas informações sobre as caches existentes.\n",
    "Sobre o Sistema Operacional, que devem ser Linux, incluir informações sobre qual a distribuição usada, versão do sistema,\n",
    "versão do Kernel, etc.\n",
    "\n",
    "__Entrega:__ As informações pedidas devem ser apresentadas no jupyter notebook\n",
    "\n",
    "\n",
    "- **Marca do Notebook:** Avell Storm BS I7 RTX 4050\n",
    "\n",
    "- **Tipo de Processador:** Intel® Core™ i7-12650H Alder Lake (24MB cache, 3.5GHz ~ 4.7GHz Turbo Boost Max 3.0)\n",
    "\n",
    "- **Memória RAM:** 32GB\n",
    "\n",
    "- **Tamanho Disco:** 512 GB\n",
    "\n",
    "\n",
    "- **Caches:**    \n",
    "\n",
    "  L1d: 416 KiB (10 instances)\n",
    "\n",
    "  L1i: 448 KiB (10 instances)\n",
    "\n",
    "  L2: 9,5 MiB (7 instances)\n",
    "\n",
    "  L3: 24 MiB (1 instance)  \n",
    "\n",
    "- **Sistema Operacional:** Linux Mint 21.3\n",
    "\n",
    "- **Distribuição Linux:** Mint\n",
    "\n",
    "- **Versão do Sistema:** 21.03 (Virginia)\n",
    "\n",
    "- **Versão do Kernel:** 5.15.0-121-generic\n",
    "\n"
   ]
  },
  {
   "cell_type": "markdown",
   "metadata": {},
   "source": [
    "--------------------------------------------\n",
    "### Tarefa 5 - Verificação de parâmetros de armazenamento\n"
   ]
  },
  {
   "cell_type": "markdown",
   "metadata": {},
   "source": [
    "**a)** Verifique no SSD utilizado para os experimentos os seguintes parâmetros: Capacidade total do SSD; Tempo médio de leitura e escrita (latência); Taxa de transferência máxima e média de dados; Endurance (vida útil) em TBW (terabytes escritos); Tipo de memória utilizada (SLC, MLC, TLC, ou QLC); Velocidade de interface (ex.: SATA III, PCIe NVMe).\n",
    "\n",
    "- **Capacidade total do SSD:** 512 GB\n",
    "- **Tempo médio de leitura e escrita:** 0,149 ms\n",
    "- **Taxa de transferência máxima e média de dados:** 835 MB/s   \n",
    "- **Endurance em TBW:** 6,29 TB\n",
    "- **Tipo de memória utilizada:** SLC(HFS512GEJ9X108N)\n",
    "- **Velocidade de interface:** SATA 3 6Gb/s"
   ]
  },
  {
   "cell_type": "markdown",
   "metadata": {},
   "source": [
    "**b)** Utilize o comando hdparm ou lsblk para verificar as configurações do sistema operacional e os parâmetros disponíveis para o SSD."
   ]
  },
  {
   "cell_type": "code",
   "execution_count": 58,
   "metadata": {},
   "outputs": [
    {
     "name": "stdout",
     "output_type": "stream",
     "text": [
      "NAME        MAJ:MIN RM   SIZE RO TYPE MOUNTPOINTS\n",
      "nvme0n1     259:0    0 476,9G  0 disk \n",
      "├─nvme0n1p1 259:1    0   512M  0 part /boot/efi\n",
      "└─nvme0n1p2 259:2    0 476,4G  0 part /\n"
     ]
    },
    {
     "name": "stdout",
     "output_type": "stream",
     "text": [
      "smartctl 7.2 2020-12-30 r5155 [x86_64-linux-5.15.0-121-generic] (local build)\n",
      "Copyright (C) 2002-20, Bruce Allen, Christian Franke, www.smartmontools.org\n",
      "\n",
      "ERROR: smartctl requires a device name as the final command-line argument.\n",
      "\n",
      "\n",
      "Use smartctl -h to get a usage summary\n",
      "\n",
      "\n",
      "hdparm - get/set hard disk parameters - version v9.60, by Mark Lord.\n",
      "\n",
      "clue=6\n",
      "Usage:  hdparm  [options] [device ...]\n",
      "\n",
      "Options:\n",
      " -a   Get/set fs readahead\n",
      " -A   Get/set the drive look-ahead flag (0/1)\n",
      " -b   Get/set bus state (0 == off, 1 == on, 2 == tristate)\n",
      " -B   Set Advanced Power Management setting (1-255)\n",
      " -c   Get/set IDE 32-bit IO setting\n",
      " -C   Check drive power mode status\n",
      " -d   Get/set using_dma flag\n",
      " -D   Enable/disable drive defect management\n",
      " -E   Set cd/dvd drive speed\n",
      " -f   Flush buffer cache for device on exit\n",
      " -F   Flush drive write cache\n",
      " -g   Display drive geometry\n",
      " -h   Display terse usage information\n",
      " -H   Read temperature from drive (Hitachi only)\n",
      " -i   Display drive identification\n",
      " -I   Detailed/current information directly from drive\n",
      " -J   Get/set Western DIgital \"Idle3\" timeout for a WDC \"Green\" drive (DANGEROUS)\n",
      " -k   Get/set keep_settings_over_reset flag (0/1)\n",
      " -K   Set drive keep_features_over_reset flag (0/1)\n",
      " -L   Set drive doorlock (0/1) (removable harddisks only)\n",
      " -m   Get/set multiple sector count\n",
      " -M   Get/set acoustic management (0-254, 128: quiet, 254: fast)\n",
      " -n   Get/set ignore-write-errors flag (0/1)\n",
      " -N   Get/set max visible number of sectors (HPA) (VERY DANGEROUS)\n",
      " -p   Set PIO mode on IDE interface chipset (0,1,2,3,4,...)\n",
      " -P   Set drive prefetch count\n",
      " -q   Change next setting quietly\n",
      " -Q   Get/set DMA queue_depth (if supported)\n",
      " -r   Get/set device readonly flag (DANGEROUS to set)\n",
      " -R   Get/set device write-read-verify flag\n",
      " -s   Set power-up in standby flag (0/1) (DANGEROUS)\n",
      " -S   Set standby (spindown) timeout\n",
      " -t   Perform device read timings\n",
      " -T   Perform cache read timings\n",
      " -u   Get/set unmaskirq flag (0/1)\n",
      " -U   Obsolete\n",
      " -v   Use defaults; same as -acdgkmur for IDE drives\n",
      " -V   Display program version and exit immediately\n",
      " -w   Perform device reset (DANGEROUS)\n",
      " -W   Get/set drive write-caching flag (0/1)\n",
      " -x   Obsolete\n",
      " -X   Set IDE xfer mode (DANGEROUS)\n",
      " -y   Put drive in standby mode\n",
      " -Y   Put drive to sleep\n",
      " -z   Re-read partition table\n",
      " -Z   Disable Seagate auto-powersaving mode\n",
      " --dco-freeze      Freeze/lock current device configuration until next power cycle\n",
      " --dco-identify    Read/dump device configuration identify data\n",
      " --dco-restore     Reset device configuration back to factory defaults\n",
      " --dco-setmax      Use DCO to set maximum addressable sectors\n",
      " --direct          Use O_DIRECT to bypass page cache for timings\n",
      " --drq-hsm-error   Crash system with a \"stuck DRQ\" error (VERY DANGEROUS)\n",
      " --fallocate       Create a file without writing data to disk\n",
      " --fibmap          Show device extents (and fragmentation) for a file\n",
      " --fwdownload            Download firmware file to drive (EXTREMELY DANGEROUS)\n",
      " --fwdownload-mode3      Download firmware using min-size segments (EXTREMELY DANGEROUS)\n",
      " --fwdownload-mode3-max  Download firmware using max-size segments (EXTREMELY DANGEROUS)\n",
      " --fwdownload-mode7      Download firmware using a single segment (EXTREMELY DANGEROUS)\n",
      " --fwdownload-modee      Download firmware using mode E (min-size segments) (EXTREMELY DANGEROUS)\n",
      " --fwdownload-modee-max  Download firmware using mode E (max-size segments) (EXTREMELY DANGEROUS)\n",
      " --idle-immediate  Idle drive immediately\n",
      " --idle-unload     Idle immediately and unload heads\n",
      " --Iraw filename   Write raw binary identify data to the specfied file\n",
      " --Istdin          Read identify data from stdin as ASCII hex\n",
      " --Istdout         Write identify data to stdout as ASCII hex\n",
      " --make-bad-sector Deliberately corrupt a sector directly on the media (VERY DANGEROUS)\n",
      " --offset          use with -t, to begin timings at given offset (in GiB) from start of drive\n",
      " --prefer-ata12    Use 12-byte (instead of 16-byte) SAT commands when possible\n",
      " --read-sector     Read and dump (in hex) a sector directly from the media\n",
      " --repair-sector   Alias for the --write-sector option (VERY DANGEROUS)\n",
      " --sanitize-antifreeze-lock  Block sanitize-freeze-lock command until next power cycle\n",
      " --sanitize-block-erase      Start block erase operation\n",
      " --sanitize-crypto-scramble  Change the internal encryption keys that used for used data\n",
      " --sanitize-freeze-lock      Lock drive's sanitize features until next power cycle\n",
      " --sanitize-overwrite  PATTERN  Overwrite the internal media with constant PATTERN\n",
      " --sanitize-status           Show sanitize status information\n",
      " --security-help             Display help for ATA security commands\n",
      " --set-sector-size           Change logical sector size of drive\n",
      " --trim-sector-ranges        Tell SSD firmware to discard unneeded data sectors: lba:count ..\n",
      " --trim-sector-ranges-stdin  Same as above, but reads lba:count pairs from stdin\n",
      " --verbose                   Display extra diagnostics from some commands\n",
      " --write-sector              Repair/overwrite a (possibly bad) sector directly on the media (VERY DANGEROUS)\n",
      "\n"
     ]
    }
   ],
   "source": [
    "!lsblk\n",
    "!smartctl\n",
    "!hdparm"
   ]
  },
  {
   "attachments": {
    "image-2.png": {
     "image/png": "[encoded data removed]"
    }
   },
   "cell_type": "markdown",
   "metadata": {},
   "source": [
    "**c)** Verifique o tamanho do bloco utilizado pelo sistema para o SSD; Explique como alterar o tamanho de bloco, caso necessário, embora muitos sistemas ajustem automaticamente o bloco para SSDs modernos.\n",
    "\n",
    "\n",
    "utilizando o comando **sstat -f /dev/nvme0n1p2**, podemos verificar o tamanho do bloco:\n",
    "\n",
    "![image-2.png](attachment:image-2.png)\n",
    "\n",
    "para alterar o tamanho dos blocos basta o comando: **sudo mkfs.ext4 -b tamanho_definido /dev/nvme0n1p2**"
   ]
  }
 ],
 "metadata": {
  "kernelspec": {
   "display_name": "Python 3 (ipykernel)",
   "language": "python",
   "name": "python3"
  },
  "language_info": {
   "codemirror_mode": {
    "name": "ipython",
    "version": 3
   },
   "file_extension": ".py",
   "mimetype": "text/x-python",
   "name": "python",
   "nbconvert_exporter": "python",
   "pygments_lexer": "ipython3",
   "version": "3.10.12"
  }
 },
 "nbformat": 4,
 "nbformat_minor": 4
}
